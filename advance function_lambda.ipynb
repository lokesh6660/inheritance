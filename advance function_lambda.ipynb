{
 "cells": [
  {
   "cell_type": "code",
   "execution_count": 1,
   "id": "37d395f2",
   "metadata": {},
   "outputs": [],
   "source": [
    "#advance function\n",
    "#lambda\n",
    "#map\n",
    "#filter\n",
    "#reduce"
   ]
  },
  {
   "cell_type": "code",
   "execution_count": 2,
   "id": "862ccadf",
   "metadata": {},
   "outputs": [
    {
     "data": {
      "text/plain": [
       "7"
      ]
     },
     "execution_count": 2,
     "metadata": {},
     "output_type": "execute_result"
    }
   ],
   "source": [
    "#lambda\n",
    "a=lambda x,y:x+y\n",
    "a(4,3)"
   ]
  },
  {
   "cell_type": "code",
   "execution_count": 3,
   "id": "852338a5",
   "metadata": {},
   "outputs": [],
   "source": [
    "#questions"
   ]
  },
  {
   "cell_type": "code",
   "execution_count": 4,
   "id": "77626da9",
   "metadata": {},
   "outputs": [
    {
     "data": {
      "text/plain": [
       "100"
      ]
     },
     "execution_count": 4,
     "metadata": {},
     "output_type": "execute_result"
    }
   ],
   "source": [
    "#wap to find sqare of a number using lambda fun\n",
    "x=lambda q:q*q\n",
    "x(10)"
   ]
  },
  {
   "cell_type": "code",
   "execution_count": 12,
   "id": "b27abfd2",
   "metadata": {},
   "outputs": [
    {
     "data": {
      "text/plain": [
       "500.0"
      ]
     },
     "execution_count": 12,
     "metadata": {},
     "output_type": "execute_result"
    }
   ],
   "source": [
    "#wap to find cube of a number using lambda fun\n",
    "x=lambda q:(q*q*q)\n",
    "x(10)"
   ]
  },
  {
   "cell_type": "code",
   "execution_count": 13,
   "id": "9320c0b8",
   "metadata": {},
   "outputs": [
    {
     "data": {
      "text/plain": [
       "3.0"
      ]
     },
     "execution_count": 13,
     "metadata": {},
     "output_type": "execute_result"
    }
   ],
   "source": [
    "#wap to find average of 5 number using lambda fun\n",
    "x= lambda a,b,c,d,e:(a+b+c+d+e)/5\n",
    "x(1,2,3,4,5)"
   ]
  },
  {
   "cell_type": "code",
   "execution_count": 4,
   "id": "279a3f3f",
   "metadata": {},
   "outputs": [
    {
     "name": "stdout",
     "output_type": "stream",
     "text": [
      "even\n"
     ]
    }
   ],
   "source": [
    "#4.wap to find odd and even number with the help of lamdbda function\n",
    "z=lambda n:(n%2)\n",
    "if(z(10)==0):\n",
    "    print(\"even\")\n",
    "else:\n",
    "    print(\"odd\")   \n",
    "\n"
   ]
  },
  {
   "cell_type": "code",
   "execution_count": null,
   "id": "14d4e982",
   "metadata": {},
   "outputs": [],
   "source": [
    "#5.\n",
    "n=int(input(\"enter the number:\"))\n",
    "z=lambda n:n*15\n",
    "if(n==2):\n",
    "        print(\"double of the number:\",z(n))\n",
    "elif(n==3):\n",
    "        print(\"triple of the number:\",z(n))\n",
    "elif(n==4):\n",
    "        print(\"quadruple of the number:\",z(n))\n",
    "elif(n==5):\n",
    "        print(\" quintupal of the number\",z(n))\n",
    "            \n"
   ]
  },
  {
   "cell_type": "code",
   "execution_count": null,
   "id": "14deee6e",
   "metadata": {},
   "outputs": [],
   "source": []
  },
  {
   "cell_type": "code",
   "execution_count": null,
   "id": "85af3f3e",
   "metadata": {},
   "outputs": [],
   "source": []
  },
  {
   "cell_type": "code",
   "execution_count": null,
   "id": "281258f5",
   "metadata": {},
   "outputs": [],
   "source": []
  }
 ],
 "metadata": {
  "kernelspec": {
   "display_name": "Python 3 (ipykernel)",
   "language": "python",
   "name": "python3"
  },
  "language_info": {
   "codemirror_mode": {
    "name": "ipython",
    "version": 3
   },
   "file_extension": ".py",
   "mimetype": "text/x-python",
   "name": "python",
   "nbconvert_exporter": "python",
   "pygments_lexer": "ipython3",
   "version": "3.9.12"
  }
 },
 "nbformat": 4,
 "nbformat_minor": 5
}
