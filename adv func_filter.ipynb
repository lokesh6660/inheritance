{
 "cells": [
  {
   "cell_type": "code",
   "execution_count": 1,
   "id": "fe00c0ab",
   "metadata": {},
   "outputs": [
    {
     "name": "stdout",
     "output_type": "stream",
     "text": [
      "[78, 90]\n"
     ]
    }
   ],
   "source": [
    "# without filter function\n",
    "x=[45,78,90,32,23,12,8,49,9,18,15]\n",
    "a=[]\n",
    "for i in x:\n",
    "    if(i>=60):\n",
    "        a.append(i)\n",
    "print(a)        "
   ]
  },
  {
   "cell_type": "code",
   "execution_count": 19,
   "id": "9669c9a0",
   "metadata": {},
   "outputs": [
    {
     "data": {
      "text/plain": [
       "[78, 90]"
      ]
     },
     "execution_count": 19,
     "metadata": {},
     "output_type": "execute_result"
    }
   ],
   "source": [
    "#with filter function\n",
    "x=[45,78,90,32,23,12,8,49,9,18,15]\n",
    "list(filter(lambda x: True if x>60 else False,x))"
   ]
  },
  {
   "cell_type": "code",
   "execution_count": 20,
   "id": "2c24dc52",
   "metadata": {},
   "outputs": [
    {
     "data": {
      "text/plain": [
       "[]"
      ]
     },
     "execution_count": 20,
     "metadata": {},
     "output_type": "execute_result"
    }
   ],
   "source": [
    "x=[45,78,90,32,23,12,8,49,9,18,15]\n",
    "\n",
    "def fil(x):\n",
    "    if i>60:\n",
    "        return True\n",
    "    else:\n",
    "        return False\n",
    "list(filter(fil,x))\n",
    "    \n",
    "    \n",
    "    \n"
   ]
  },
  {
   "cell_type": "code",
   "execution_count": 22,
   "id": "b4cefec3",
   "metadata": {},
   "outputs": [
    {
     "name": "stdout",
     "output_type": "stream",
     "text": [
      "[1, 4, 9, 16]\n"
     ]
    }
   ],
   "source": []
  },
  {
   "cell_type": "code",
   "execution_count": null,
   "id": "d46ad13e",
   "metadata": {},
   "outputs": [],
   "source": []
  }
 ],
 "metadata": {
  "kernelspec": {
   "display_name": "Python 3 (ipykernel)",
   "language": "python",
   "name": "python3"
  },
  "language_info": {
   "codemirror_mode": {
    "name": "ipython",
    "version": 3
   },
   "file_extension": ".py",
   "mimetype": "text/x-python",
   "name": "python",
   "nbconvert_exporter": "python",
   "pygments_lexer": "ipython3",
   "version": "3.9.12"
  }
 },
 "nbformat": 4,
 "nbformat_minor": 5
}
