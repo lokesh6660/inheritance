{
 "cells": [
  {
   "cell_type": "code",
   "execution_count": 1,
   "id": "432f9f75",
   "metadata": {},
   "outputs": [
    {
     "name": "stdout",
     "output_type": "stream",
     "text": [
      "enter your salery:50000\n",
      "enter your years of service:6\n",
      "your salery become after add bonus is: 52500.0\n"
     ]
    }
   ],
   "source": [
    "sal=int(input(\"enter your salery:\"))\n",
    "year=int(input(\"enter your years of service:\"))\n",
    "if(year>=5):\n",
    "    sal=sal+(sal*5/100)\n",
    "    print(\"your salery become after add bonus is:\",sal)\n",
    "else:\n",
    "    print(\"you not complete 5 years of service then you not got bones \")\n",
    "    print(\"your salery is:\",sal)\n",
    "    "
   ]
  },
  {
   "cell_type": "code",
   "execution_count": 3,
   "id": "fbc56363",
   "metadata": {},
   "outputs": [
    {
     "name": "stdout",
     "output_type": "stream",
     "text": [
      "enter length of rectangle:12\n",
      "enter breadth of rectangle:12\n",
      "this is an square\n"
     ]
    }
   ],
   "source": [
    "lan=int(input(\"enter length of rectangle:\"))\n",
    "bre=int(input(\"enter breadth of rectangle:\"))\n",
    "if(lan==bre):\n",
    "    print(\"this is an square\")\n",
    "else:\n",
    "    print(\"this is an rectangle\")"
   ]
  },
  {
   "cell_type": "code",
   "execution_count": 2,
   "id": "56b8a598",
   "metadata": {},
   "outputs": [
    {
     "name": "stdout",
     "output_type": "stream",
     "text": [
      "enter 1 number:12\n",
      "enter 2 number:13\n",
      "enter 1 number:14\n",
      "z is greatest= 14\n"
     ]
    }
   ],
   "source": [
    "x=int(input(\"enter 1 number:\"))\n",
    "y=int(input(\"enter 2 number:\"))\n",
    "z=int(input(\"enter 1 number:\"))\n",
    "if(x>y and x>z):\n",
    "    print(\"x is greatest=\",x)\n",
    "elif(y>x and y>z):\n",
    "    print(\"y is greatest=\",y)\n",
    "elif(z>x and z>y):\n",
    "    print(\"z is greatest=\",z)\n",
    "    \n",
    "    \n",
    "    "
   ]
  },
  {
   "cell_type": "code",
   "execution_count": 5,
   "id": "57d9e95c",
   "metadata": {},
   "outputs": [
    {
     "name": "stdout",
     "output_type": "stream",
     "text": [
      "enter quantity of product:20\n",
      "we gave discount of 10% for each product\n",
      "total cost of product: 1800.0\n"
     ]
    }
   ],
   "source": [
    "cost=100\n",
    "n= int(input(\"enter quantity of product:\"))\n",
    "if(n>=10):\n",
    "    print(\"we gave discount of 10% for each product\")\n",
    "    cost=cost-(cost*(10/100))\n",
    "    t=cost*n\n",
    "    print(\"total cost of product:\",t)\n",
    "else:\n",
    "    print(\"you buy product which less in quantity ,so we not provid discount\")\n",
    "    t=cost*n\n",
    "    print(\"we provide total cost:\",t)\n",
    "    "
   ]
  },
  {
   "cell_type": "code",
   "execution_count": 10,
   "id": "27de4664",
   "metadata": {},
   "outputs": [
    {
     "name": "stdout",
     "output_type": "stream",
     "text": [
      "enter your mask for grading:85\n",
      "your grade is:A\n"
     ]
    }
   ],
   "source": [
    "n=int(input(\"enter your mask for grading:\"))\n",
    "if(n<25):\n",
    "    print(\"your grade is:F\")\n",
    "elif(n>25 and n<45):\n",
    "    print(\"your grade is:E\")\n",
    "elif(n>45 and n<50):\n",
    "    print(\"your grade is:D\")\n",
    "elif(n>50 and n<60):\n",
    "    print(\"your grade is:C\")\n",
    "elif(n>60 and n<80):\n",
    "    print(\"your grade is:B\")\n",
    "elif(n>80):\n",
    "    print(\"your grade is:A\")\n",
    "    "
   ]
  },
  {
   "cell_type": "code",
   "execution_count": 14,
   "id": "a30877be",
   "metadata": {},
   "outputs": [
    {
     "name": "stdout",
     "output_type": "stream",
     "text": [
      "enter 1 person age:12\n",
      "enter 2 person age:14\n",
      "enter 3 person age:17\n",
      "1 person is youngest\n",
      "3 person is older\n"
     ]
    }
   ],
   "source": [
    "n1=int(input(\"enter 1 person age:\"))\n",
    "n2=int(input(\"enter 2 person age:\"))\n",
    "n3=int(input(\"enter 3 person age:\"))\n",
    "if(n1<n2 and n1<n3):\n",
    "    print(\"1 person is youngest\")\n",
    "elif(n2<n1 and n2<n3):\n",
    "    print(\"2 person is youngest\")\n",
    "elif(n3<n1 and n3<n2):\n",
    "    print(\"3 person is youngest\")\n",
    "if(n1>n2 and n1>n3):\n",
    "    print(\"1 person is older\")\n",
    "elif(n2>n1 and n2>n3):\n",
    "    print(\"2 person is older\")\n",
    "elif(n3>n1 and n3>n2):\n",
    "    print(\"3 person is older\")\n",
    "\n",
    "      "
   ]
  },
  {
   "cell_type": "code",
   "execution_count": 15,
   "id": "24cceaa4",
   "metadata": {},
   "outputs": [
    {
     "name": "stdout",
     "output_type": "stream",
     "text": [
      "enter the total number of class:100\n",
      "enter the total number of class attend:90\n",
      "percentage= 90.0\n",
      "you allowed to sit in exam\n"
     ]
    }
   ],
   "source": [
    "n=int(input(\"enter the total number of class:\"))\n",
    "m=int(input(\"enter the total number of class attend:\"))\n",
    "per=(m/n)*100\n",
    "print(\"percentage=\",per)\n",
    "if(per>=75):\n",
    "    print(\"you allowed to sit in exam\")\n",
    "else:\n",
    "    print(\"you not allowed to sit in exam\")\n",
    "    "
   ]
  },
  {
   "cell_type": "code",
   "execution_count": 4,
   "id": "010284ed",
   "metadata": {},
   "outputs": [
    {
     "name": "stdout",
     "output_type": "stream",
     "text": [
      "enter the total number of class:100\n",
      "enter the total number of class attend:65\n",
      "percentage= 65.0\n",
      "if you has medical cause than enter 'Y'or'N'\n",
      "enter 'Y'or'N':y\n",
      "you allowed to sit in exam due to medical cause\n"
     ]
    }
   ],
   "source": [
    "n=int(input(\"enter the total number of class:\"))\n",
    "m=int(input(\"enter the total number of class attend:\"))\n",
    "per=(m/n)*100\n",
    "print(\"percentage=\",per)\n",
    "if(per>=75):\n",
    "    print(\"you allowed to sit in exam\")\n",
    "else:\n",
    "    print(\"if you has medical cause than enter 'Y'or'N'\" )\n",
    "    x=str(input(\"enter 'Y'or'N':\"))\n",
    "    if(x==\"y\" or x==\"Y\"):\n",
    "        print(\"you allowed to sit in exam due to medical cause\")\n",
    "    else:\n",
    "        print(\"you are not allowed to sit in exam\")"
   ]
  },
  {
   "cell_type": "code",
   "execution_count": null,
   "id": "9169acab",
   "metadata": {},
   "outputs": [],
   "source": []
  }
 ],
 "metadata": {
  "kernelspec": {
   "display_name": "Python 3 (ipykernel)",
   "language": "python",
   "name": "python3"
  },
  "language_info": {
   "codemirror_mode": {
    "name": "ipython",
    "version": 3
   },
   "file_extension": ".py",
   "mimetype": "text/x-python",
   "name": "python",
   "nbconvert_exporter": "python",
   "pygments_lexer": "ipython3",
   "version": "3.9.12"
  }
 },
 "nbformat": 4,
 "nbformat_minor": 5
}
