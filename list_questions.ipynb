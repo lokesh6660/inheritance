{
 "cells": [
  {
   "cell_type": "code",
   "execution_count": 1,
   "id": "266c7618",
   "metadata": {},
   "outputs": [
    {
     "name": "stdout",
     "output_type": "stream",
     "text": [
      "[40, 20, 30, 10]\n"
     ]
    }
   ],
   "source": [
    "#1 \n",
    "a=[10,20,30,40]\n",
    "t=a[0]\n",
    "a[0]=a[3]\n",
    "a[3]=t\n",
    "print(a)"
   ]
  },
  {
   "cell_type": "code",
   "execution_count": 33,
   "id": "ed04ae69",
   "metadata": {},
   "outputs": [
    {
     "name": "stdout",
     "output_type": "stream",
     "text": [
      "99\n"
     ]
    }
   ],
   "source": [
    "#2\n",
    "a=[90,87,99,45,50]\n",
    "y=0\n",
    "for i in a:\n",
    "    if y<i:\n",
    "        y=i\n",
    "print(y)  "
   ]
  },
  {
   "cell_type": "code",
   "execution_count": 4,
   "id": "c690ba37",
   "metadata": {},
   "outputs": [
    {
     "name": "stdout",
     "output_type": "stream",
     "text": [
      "45\n"
     ]
    }
   ],
   "source": [
    "#3\n",
    "a=[90,87,99,45,50]\n",
    "y=a[0]\n",
    "for i in a:\n",
    "    if y>i:\n",
    "        y=i\n",
    "print(y)  "
   ]
  },
  {
   "cell_type": "code",
   "execution_count": 19,
   "id": "6b90ca55",
   "metadata": {},
   "outputs": [
    {
     "name": "stdout",
     "output_type": "stream",
     "text": [
      "[5, 4, 3, 2, 1]\n"
     ]
    }
   ],
   "source": [
    "#4\n",
    "x=[1,2,3,4,5]\n",
    "x.sort(reverse=True)\n",
    "print(x)"
   ]
  },
  {
   "cell_type": "code",
   "execution_count": 10,
   "id": "9fee122e",
   "metadata": {},
   "outputs": [
    {
     "name": "stdout",
     "output_type": "stream",
     "text": [
      "[1, 2, 3, 4, 5]\n",
      "sum= 15\n"
     ]
    }
   ],
   "source": [
    "#5\n",
    "y=[1,2,3,4,5]\n",
    "sum=0\n",
    "for i in y:\n",
    "    sum=sum+i\n",
    "    \n",
    "print(y)    \n",
    "print(\"sum=\",sum)    "
   ]
  },
  {
   "cell_type": "code",
   "execution_count": 13,
   "id": "fa82d370",
   "metadata": {},
   "outputs": [
    {
     "name": "stdout",
     "output_type": "stream",
     "text": [
      "[1, 2, 3, 4, 5]\n",
      "multiply= 120\n"
     ]
    }
   ],
   "source": [
    "#6\n",
    "y=[1,2,3,4,5]\n",
    "mul=1\n",
    "for i in y:\n",
    "    mul=mul*i\n",
    "    \n",
    "print(y)    \n",
    "print(\"multiply=\",mul)    "
   ]
  },
  {
   "cell_type": "code",
   "execution_count": 2,
   "id": "16133b79",
   "metadata": {},
   "outputs": [
    {
     "name": "stdout",
     "output_type": "stream",
     "text": [
      "[12, 27, 45, 67, 78]\n",
      "for 5 element list 2nd largest number is= 67\n"
     ]
    }
   ],
   "source": [
    "#7\n",
    "q=[12,45,67,78,27]\n",
    "q.sort()\n",
    "print(q)\n",
    "print('for 5 element list 2nd largest number is=',q[-2])\n"
   ]
  },
  {
   "cell_type": "code",
   "execution_count": 27,
   "id": "65765dd2",
   "metadata": {},
   "outputs": [
    {
     "name": "stdout",
     "output_type": "stream",
     "text": [
      "number of odd number 4\n",
      "number of even number 5\n"
     ]
    }
   ],
   "source": [
    "#8\n",
    "w=[1,2,3,4,5,6,7,8,9]\n",
    "a=0\n",
    "b=0\n",
    "for i in w:\n",
    "    if((i%2)==0):\n",
    "        a=a+1\n",
    "    else:\n",
    "        b=b+1\n",
    "print(\"number of odd number\",a)  \n",
    "print(\"number of even number\",b)\n"
   ]
  },
  {
   "cell_type": "code",
   "execution_count": 30,
   "id": "1d2b06e6",
   "metadata": {},
   "outputs": [
    {
     "name": "stdout",
     "output_type": "stream",
     "text": [
      "positive number in the list:\n",
      "3\n",
      "4\n"
     ]
    }
   ],
   "source": [
    "#9\n",
    "r=[-1,-2,3,4,-5]\n",
    "print(\"positive number in the list:\")\n",
    "for i in r:\n",
    "    if(i>=0):\n",
    "        print(i)"
   ]
  },
  {
   "cell_type": "code",
   "execution_count": 32,
   "id": "03cadd27",
   "metadata": {},
   "outputs": [
    {
     "name": "stdout",
     "output_type": "stream",
     "text": [
      "negative number in the list:\n",
      "-1\n",
      "-2\n",
      "-5\n"
     ]
    }
   ],
   "source": [
    "#10\n",
    "r=[-1,-2,3,4,-5]\n",
    "print(\"negative number in the list:\")\n",
    "for i in r:\n",
    "    if(i<=0):\n",
    "        print(i)"
   ]
  },
  {
   "cell_type": "code",
   "execution_count": null,
   "id": "ea4fa48c",
   "metadata": {},
   "outputs": [],
   "source": []
  },
  {
   "cell_type": "code",
   "execution_count": null,
   "id": "726b5182",
   "metadata": {},
   "outputs": [],
   "source": []
  }
 ],
 "metadata": {
  "kernelspec": {
   "display_name": "Python 3 (ipykernel)",
   "language": "python",
   "name": "python3"
  },
  "language_info": {
   "codemirror_mode": {
    "name": "ipython",
    "version": 3
   },
   "file_extension": ".py",
   "mimetype": "text/x-python",
   "name": "python",
   "nbconvert_exporter": "python",
   "pygments_lexer": "ipython3",
   "version": "3.9.12"
  }
 },
 "nbformat": 4,
 "nbformat_minor": 5
}
