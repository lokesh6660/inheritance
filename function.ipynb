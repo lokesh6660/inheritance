{
 "cells": [
  {
   "cell_type": "code",
   "execution_count": 1,
   "id": "748e7ce7",
   "metadata": {},
   "outputs": [
    {
     "name": "stdout",
     "output_type": "stream",
     "text": [
      "{10}\n"
     ]
    },
    {
     "data": {
      "text/plain": [
       "set"
      ]
     },
     "execution_count": 1,
     "metadata": {},
     "output_type": "execute_result"
    }
   ],
   "source": [
    "a={10}\n",
    "print(a)\n",
    "type(a)"
   ]
  },
  {
   "cell_type": "code",
   "execution_count": 5,
   "id": "50c2c28e",
   "metadata": {},
   "outputs": [
    {
     "name": "stdout",
     "output_type": "stream",
     "text": [
      "set()\n"
     ]
    },
    {
     "data": {
      "text/plain": [
       "set"
      ]
     },
     "execution_count": 5,
     "metadata": {},
     "output_type": "execute_result"
    }
   ],
   "source": [
    "b=set()\n",
    "print(b)\n",
    "type(b)"
   ]
  },
  {
   "cell_type": "markdown",
   "id": "99bc8293",
   "metadata": {},
   "source": [
    "# function"
   ]
  },
  {
   "cell_type": "code",
   "execution_count": 6,
   "id": "bd0ce58e",
   "metadata": {},
   "outputs": [
    {
     "name": "stdout",
     "output_type": "stream",
     "text": [
      "hi\n"
     ]
    }
   ],
   "source": [
    "def fun():\n",
    "    print(\"hi\")\n",
    "    \n",
    "fun() "
   ]
  },
  {
   "cell_type": "code",
   "execution_count": 8,
   "id": "3b5bea68",
   "metadata": {},
   "outputs": [
    {
     "name": "stdout",
     "output_type": "stream",
     "text": [
      "enter any number:12\n",
      "enter any number:12\n",
      "24\n"
     ]
    }
   ],
   "source": [
    "def add():\n",
    "    a=int(input(\"enter any number:\"))\n",
    "    b=int(input(\"enter any number:\"))\n",
    "    sum=a+b\n",
    "    print(sum)\n",
    "add()    "
   ]
  },
  {
   "cell_type": "code",
   "execution_count": null,
   "id": "b63a9dd3",
   "metadata": {},
   "outputs": [],
   "source": [
    "def add():\n",
    "    a=12\n",
    "    b=12\n",
    "    sum=a+b\n",
    "    return(sum)"
   ]
  },
  {
   "cell_type": "code",
   "execution_count": 4,
   "id": "d98e248a",
   "metadata": {},
   "outputs": [
    {
     "data": {
      "text/plain": [
       "24"
      ]
     },
     "execution_count": 4,
     "metadata": {},
     "output_type": "execute_result"
    }
   ],
   "source": [
    "add()"
   ]
  },
  {
   "cell_type": "code",
   "execution_count": 6,
   "id": "a29654f9",
   "metadata": {},
   "outputs": [
    {
     "name": "stdout",
     "output_type": "stream",
     "text": [
      "enter your salary:70000\n",
      "enter your leaves3\n"
     ]
    },
    {
     "data": {
      "text/plain": [
       "78610.0"
      ]
     },
     "execution_count": 6,
     "metadata": {},
     "output_type": "execute_result"
    }
   ],
   "source": [
    "def emp():\n",
    "    sal=int(input(\"enter your salary:\"))\n",
    "    leaves=int(input(\"enter your leaves\"))\n",
    "    if(leaves>=12):\n",
    "        sal=sal-(sal*7.5)/100\n",
    "        return sal\n",
    "    elif(leaves<=5):\n",
    "        sal=sal+(sal*12.3)/100\n",
    "        return(sal)\n",
    "emp()   "
   ]
  },
  {
   "cell_type": "code",
   "execution_count": 7,
   "id": "225bfbc9",
   "metadata": {},
   "outputs": [
    {
     "name": "stdout",
     "output_type": "stream",
     "text": [
      "enter your salary:70000\n",
      "enter your leaves13\n"
     ]
    },
    {
     "data": {
      "text/plain": [
       "64750.0"
      ]
     },
     "execution_count": 7,
     "metadata": {},
     "output_type": "execute_result"
    }
   ],
   "source": [
    "def emp():\n",
    "    sal=int(input(\"enter your salary:\"))\n",
    "    leaves=int(input(\"enter your leaves\"))\n",
    "    if(leaves>=12):\n",
    "        sal=sal-(sal*(7.5/100))\n",
    "        return sal\n",
    "    elif(leaves<=5):\n",
    "        sal=sal+(sal*(12.3/100))\n",
    "        return(sal)\n",
    "emp() "
   ]
  },
  {
   "cell_type": "code",
   "execution_count": null,
   "id": "eb825f11",
   "metadata": {},
   "outputs": [],
   "source": []
  }
 ],
 "metadata": {
  "kernelspec": {
   "display_name": "Python 3 (ipykernel)",
   "language": "python",
   "name": "python3"
  },
  "language_info": {
   "codemirror_mode": {
    "name": "ipython",
    "version": 3
   },
   "file_extension": ".py",
   "mimetype": "text/x-python",
   "name": "python",
   "nbconvert_exporter": "python",
   "pygments_lexer": "ipython3",
   "version": "3.9.12"
  }
 },
 "nbformat": 4,
 "nbformat_minor": 5
}
