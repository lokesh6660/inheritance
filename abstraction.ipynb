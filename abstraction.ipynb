{
 "cells": [
  {
   "cell_type": "markdown",
   "id": "ea96da19",
   "metadata": {},
   "source": [
    "# abstraction"
   ]
  },
  {
   "cell_type": "code",
   "execution_count": 1,
   "id": "4c7f562b",
   "metadata": {},
   "outputs": [],
   "source": [
    "#hide the data----->hide the complaxity of the data"
   ]
  },
  {
   "cell_type": "code",
   "execution_count": 7,
   "id": "35cbb0d0",
   "metadata": {},
   "outputs": [
    {
     "name": "stdout",
     "output_type": "stream",
     "text": [
      "hi bro\n",
      "hello\n"
     ]
    }
   ],
   "source": [
    "from abc import ABC,abstractmethod\n",
    "class abc(ABC):\n",
    "    @abstractmethod\n",
    "    def __init__(self):\n",
    "        print(\"hi bro\")\n",
    "class xyz(abc):\n",
    "    def __init__(self):\n",
    "        super().__init__()\n",
    "        \n",
    "        print(\"hello\")\n",
    "q=xyz() \n",
    "\n"
   ]
  },
  {
   "cell_type": "code",
   "execution_count": 14,
   "id": "c62ed7b1",
   "metadata": {},
   "outputs": [
    {
     "ename": "TypeError",
     "evalue": "Can't instantiate abstract class sal with abstract methods __init__, emp1",
     "output_type": "error",
     "traceback": [
      "\u001b[1;31m---------------------------------------------------------------------------\u001b[0m",
      "\u001b[1;31mTypeError\u001b[0m                                 Traceback (most recent call last)",
      "Input \u001b[1;32mIn [14]\u001b[0m, in \u001b[0;36m<cell line: 12>\u001b[1;34m()\u001b[0m\n\u001b[0;32m     10\u001b[0m     \u001b[38;5;28;01mdef\u001b[39;00m \u001b[38;5;21msalary\u001b[39m(\u001b[38;5;28mself\u001b[39m,sal1\u001b[38;5;241m=\u001b[39m\u001b[38;5;241m100000\u001b[39m):\n\u001b[0;32m     11\u001b[0m         \u001b[38;5;28mprint\u001b[39m(\u001b[38;5;124m\"\u001b[39m\u001b[38;5;124msalary=\u001b[39m\u001b[38;5;124m\"\u001b[39m,sal1)\n\u001b[1;32m---> 12\u001b[0m e\u001b[38;5;241m=\u001b[39m\u001b[43msal\u001b[49m\u001b[43m(\u001b[49m\u001b[43m)\u001b[49m   \n\u001b[0;32m     13\u001b[0m e\u001b[38;5;241m.\u001b[39msalary()\n",
      "\u001b[1;31mTypeError\u001b[0m: Can't instantiate abstract class sal with abstract methods __init__, emp1"
     ]
    }
   ],
   "source": [
    "#wap to make a abc and try to find the salary of only employee\n",
    "from abc import ABC,abstractmethod\n",
    "class emp(abc):\n",
    "    @abstractmethod\n",
    "    \n",
    "    def emp1(self):\n",
    "        print(\"name=xyz\")\n",
    "        \n",
    "class sal(emp):\n",
    "    def salary(self,sal1=100000):\n",
    "        print(\"salary=\",sal1)\n",
    "e=sal()   \n",
    "e.salary()"
   ]
  },
  {
   "cell_type": "code",
   "execution_count": null,
   "id": "3471ec47",
   "metadata": {},
   "outputs": [],
   "source": []
  }
 ],
 "metadata": {
  "kernelspec": {
   "display_name": "Python 3 (ipykernel)",
   "language": "python",
   "name": "python3"
  },
  "language_info": {
   "codemirror_mode": {
    "name": "ipython",
    "version": 3
   },
   "file_extension": ".py",
   "mimetype": "text/x-python",
   "name": "python",
   "nbconvert_exporter": "python",
   "pygments_lexer": "ipython3",
   "version": "3.9.12"
  }
 },
 "nbformat": 4,
 "nbformat_minor": 5
}
