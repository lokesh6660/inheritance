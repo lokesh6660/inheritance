{
 "cells": [
  {
   "cell_type": "markdown",
   "id": "7069ebd9",
   "metadata": {},
   "source": [
    "# encapaulation\n"
   ]
  },
  {
   "cell_type": "code",
   "execution_count": 8,
   "id": "9332f068",
   "metadata": {},
   "outputs": [],
   "source": [
    "#public is by default\n",
    "# __ -> for private\n",
    "#_ ->for protected"
   ]
  },
  {
   "cell_type": "code",
   "execution_count": 1,
   "id": "6c60a491",
   "metadata": {},
   "outputs": [
    {
     "name": "stdout",
     "output_type": "stream",
     "text": [
      "a 12\n"
     ]
    }
   ],
   "source": [
    "#public\n",
    "class student:\n",
    "    def __init__(self,name,age):\n",
    "        self.name=name\n",
    "        self.age=age\n",
    "        print(name,age)\n",
    "s=student(\"a\",12)\n"
   ]
  },
  {
   "cell_type": "code",
   "execution_count": 6,
   "id": "002856be",
   "metadata": {},
   "outputs": [
    {
     "ename": "NameError",
     "evalue": "name 'name' is not defined",
     "output_type": "error",
     "traceback": [
      "\u001b[1;31m---------------------------------------------------------------------------\u001b[0m",
      "\u001b[1;31mNameError\u001b[0m                                 Traceback (most recent call last)",
      "Input \u001b[1;32mIn [6]\u001b[0m, in \u001b[0;36m<cell line: 12>\u001b[1;34m()\u001b[0m\n\u001b[0;32m     10\u001b[0m     \u001b[38;5;28;01mdef\u001b[39;00m \u001b[38;5;21m__detail\u001b[39m(\u001b[38;5;28mself\u001b[39m,marks):\n\u001b[0;32m     11\u001b[0m         \u001b[38;5;28mprint\u001b[39m(marks)\n\u001b[1;32m---> 12\u001b[0m s\u001b[38;5;241m=\u001b[39m\u001b[43mstudent\u001b[49m\u001b[43m(\u001b[49m\u001b[38;5;124;43m\"\u001b[39;49m\u001b[38;5;124;43ma\u001b[39;49m\u001b[38;5;124;43m\"\u001b[39;49m\u001b[43m,\u001b[49m\u001b[38;5;241;43m12\u001b[39;49m\u001b[43m)\u001b[49m\n",
      "Input \u001b[1;32mIn [6]\u001b[0m, in \u001b[0;36mstudent.__init__\u001b[1;34m(self, _student__name, _student__age)\u001b[0m\n\u001b[0;32m      5\u001b[0m \u001b[38;5;28;01mdef\u001b[39;00m \u001b[38;5;21m__init__\u001b[39m(\u001b[38;5;28mself\u001b[39m,__name,__age):\n\u001b[1;32m----> 6\u001b[0m     \u001b[38;5;28mself\u001b[39m\u001b[38;5;241m.\u001b[39mname\u001b[38;5;241m=\u001b[39m\u001b[43mname\u001b[49m\n\u001b[0;32m      7\u001b[0m     \u001b[38;5;28mself\u001b[39m\u001b[38;5;241m.\u001b[39mage\u001b[38;5;241m=\u001b[39mage\n\u001b[0;32m      9\u001b[0m     \u001b[38;5;28mprint\u001b[39m(name,age)\n",
      "\u001b[1;31mNameError\u001b[0m: name 'name' is not defined"
     ]
    }
   ],
   "source": [
    "#private\n",
    "#__detail function is private\n",
    "#we also convert constructer in to private by variable private\n",
    "class student:\n",
    "    def __init__(self,__name,__age):\n",
    "        self.name=name\n",
    "        self.age=age\n",
    "        print(name,age)\n",
    "        \n",
    "    def __detail(self,marks):\n",
    "        print(marks)\n",
    "s=student(\"a\",12)\n"
   ]
  },
  {
   "cell_type": "code",
   "execution_count": 5,
   "id": "03243add",
   "metadata": {},
   "outputs": [
    {
     "name": "stdout",
     "output_type": "stream",
     "text": [
      "12200\n",
      "4\n"
     ]
    }
   ],
   "source": [
    "#protected----->\n",
    "class emp:\n",
    "    def _info(self,salary,leaves):\n",
    "        print(salary)\n",
    "        print(leaves)\n",
    "    \n",
    "e=emp()    \n",
    "e._info(12200,4)"
   ]
  },
  {
   "cell_type": "code",
   "execution_count": 7,
   "id": "eee5120b",
   "metadata": {},
   "outputs": [
    {
     "name": "stdout",
     "output_type": "stream",
     "text": [
      "12200\n",
      "4\n"
     ]
    }
   ],
   "source": [
    "class emp:\n",
    "    def __init__(self,_salary,_leaves):\n",
    "        self._salary=_salary\n",
    "        self._leaves=_leaves\n",
    "        print(_salary)\n",
    "        print(_leaves)\n",
    "    \n",
    "e=emp(12200,4)    \n"
   ]
  },
  {
   "cell_type": "code",
   "execution_count": 1,
   "id": "a0f0de16",
   "metadata": {},
   "outputs": [
    {
     "name": "stdout",
     "output_type": "stream",
     "text": [
      "fail\n"
     ]
    }
   ],
   "source": [
    "#wap to perform inharitance between two classes\n",
    "#without having  peivate or protected code to find the student is pass and fail in the exam.\n",
    "class detial:\n",
    "    def __init__(self,name,marks):\n",
    "        self.name=name\n",
    "        self.marks=marks\n",
    "        \n",
    "    \n",
    "    \n",
    "class student(detial):\n",
    "    def __init__(self,name,marks,addr):\n",
    "        super().__init__(name,marks)\n",
    "        self.addr=addr\n",
    "   \n",
    "        if(marks>50):\n",
    "            print(\"pass\")\n",
    "        else:\n",
    "            print(\"fail\")\n",
    "        \n",
    "s1=student(\"abc\",12,17) \n"
   ]
  },
  {
   "cell_type": "code",
   "execution_count": 3,
   "id": "b6612d08",
   "metadata": {},
   "outputs": [
    {
     "name": "stdout",
     "output_type": "stream",
     "text": [
      "fail\n"
     ]
    }
   ],
   "source": [
    "#wap to perform inharitance between two classes\n",
    "#with having  peivate or protected code to find the student is pass and fail in the exam.\n",
    "class detial:\n",
    "    def __init__(self,__name,_marks):\n",
    "        self.__name=__name\n",
    "        self._marks=_marks\n",
    "        \n",
    "    \n",
    "    \n",
    "class student(detial):\n",
    "    def __init__(self,__name,_marks,addr):\n",
    "        super().__init__(__name,_marks)\n",
    "        self.addr=addr\n",
    "   \n",
    "        if(_marks>50):\n",
    "            print(\"pass\")\n",
    "        else:\n",
    "            print(\"fail\")\n",
    "        \n",
    "s1=student(\"abc\",12,17) \n"
   ]
  },
  {
   "cell_type": "code",
   "execution_count": 19,
   "id": "f922619c",
   "metadata": {},
   "outputs": [
    {
     "name": "stdout",
     "output_type": "stream",
     "text": [
      "speed of car 4.0\n"
     ]
    }
   ],
   "source": [
    "#wap to find the speed of the car with respect to truck \n",
    "# 1. you dist is inherited by truck class to car class\n",
    "#2.your time will be in protected mode.\n",
    "#3. none of the attribute is in publice & private mode.\n",
    "#4.find the ratio of their speed also\n",
    "class truck:\n",
    "    def __init__(self,_dist):\n",
    "        self._dist=_dist\n",
    "        \n",
    "        \n",
    "class car(truck):\n",
    "    def __init__(self,_dist,_time):\n",
    "        self._time=_time\n",
    "        super().__init__(_dist)\n",
    "        speed=_dist/_time\n",
    "        print(\"speed of car\",speed)\n",
    "        \n",
    "c=car(12,3)        "
   ]
  },
  {
   "cell_type": "code",
   "execution_count": null,
   "id": "566a2afe",
   "metadata": {},
   "outputs": [],
   "source": []
  }
 ],
 "metadata": {
  "kernelspec": {
   "display_name": "Python 3 (ipykernel)",
   "language": "python",
   "name": "python3"
  },
  "language_info": {
   "codemirror_mode": {
    "name": "ipython",
    "version": 3
   },
   "file_extension": ".py",
   "mimetype": "text/x-python",
   "name": "python",
   "nbconvert_exporter": "python",
   "pygments_lexer": "ipython3",
   "version": "3.9.12"
  }
 },
 "nbformat": 4,
 "nbformat_minor": 5
}
