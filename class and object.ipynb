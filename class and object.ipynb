{
 "cells": [
  {
   "cell_type": "code",
   "execution_count": 8,
   "id": "bf9df238",
   "metadata": {},
   "outputs": [
    {
     "name": "stdout",
     "output_type": "stream",
     "text": [
      "enter 1 sub mask10\n",
      "enter 2 sub mask20\n",
      "enter 1 sub mask30\n"
     ]
    },
    {
     "data": {
      "text/plain": [
       "60"
      ]
     },
     "execution_count": 8,
     "metadata": {},
     "output_type": "execute_result"
    }
   ],
   "source": [
    "class student:\n",
    "    a='my name is x'\n",
    "    def total(self):\n",
    "        x=int(input(\"enter 1 sub mask\"))\n",
    "        y=int(input(\"enter 2 sub mask\"))\n",
    "        z=int(input(\"enter 1 sub mask\"))\n",
    "        sum=x+y+z\n",
    "        return sum\n",
    "    \n",
    "x=student()\n",
    "x.a\n",
    "x.total()"
   ]
  },
  {
   "cell_type": "code",
   "execution_count": 2,
   "id": "3cd8f193",
   "metadata": {},
   "outputs": [
    {
     "name": "stdout",
     "output_type": "stream",
     "text": [
      "enter the date3\n",
      "today is odd day give you 3.5 extra chrges on the total cost:\n",
      "enter the cost of furniture100\n",
      "your cost of furniture is: 103.5\n"
     ]
    }
   ],
   "source": [
    "class furniture:\n",
    "    def shop(self):\n",
    "    \n",
    "        n=int(input(\"enter the date\"))\n",
    "        if(n%2==0):\n",
    "            print(\"today is even day we give you 20% discount on furniture\")\n",
    "            cost=int(input(\"enter the cost of furniture\"))\n",
    "            cost=cost-(cost*20)/100\n",
    "            print(\"your cost of furniture is:\",cost)\n",
    "        else:\n",
    "            print(\"today is odd day give you 3.5 extra chrges on the total cost:\")\n",
    "            cost=int(input(\"enter the cost of furniture\"))\n",
    "            cost=cost+(cost*3.5)/100\n",
    "            print(\"your cost of furniture is:\",cost)\n",
    "z=furniture() \n",
    "z.shop()\n",
    "    "
   ]
  },
  {
   "cell_type": "code",
   "execution_count": 1,
   "id": "4e12147c",
   "metadata": {},
   "outputs": [
    {
     "name": "stdout",
     "output_type": "stream",
     "text": [
      "enter the daysunday\n",
      "today is sunday we give you 5% discount on furniture\n",
      "enter the cost of furniture1000\n",
      "your cost of furniture is: 950.0\n"
     ]
    }
   ],
   "source": [
    "class furniture:\n",
    "    def shop(self):\n",
    "    \n",
    "        n=str(input(\"enter the day\"))\n",
    "        if(n==\"sunday\"):\n",
    "            print(\"today is sunday we give you 5% discount on furniture\")\n",
    "            cost=int(input(\"enter the cost of furniture\"))\n",
    "            cost=cost-(cost*5)/100\n",
    "            print(\"your cost of furniture is:\",cost)\n",
    "        else:\n",
    "            print(\"today is odd day give you 13% extra chrges on the total cost:\")\n",
    "            cost=int(input(\"enter the cost of furniture\"))\n",
    "            cost=cost+(cost*13)/100\n",
    "            print(\"your cost of furniture is:\",cost)\n",
    "z=furniture() \n",
    "z.shop()\n",
    "    "
   ]
  },
  {
   "cell_type": "code",
   "execution_count": 8,
   "id": "ae44d0f2",
   "metadata": {},
   "outputs": [
    {
     "data": {
      "text/plain": [
       "23"
      ]
     },
     "execution_count": 8,
     "metadata": {},
     "output_type": "execute_result"
    }
   ],
   "source": [
    "class student:\n",
    "    def __init__(self,name,age):\n",
    "        self.name=name\n",
    "        self.age=age\n",
    "        \n",
    "        \n",
    "        \n",
    "        \n",
    "x=student(\"a\",23)\n",
    "x.age"
   ]
  },
  {
   "cell_type": "code",
   "execution_count": 1,
   "id": "f21dc987",
   "metadata": {},
   "outputs": [
    {
     "data": {
      "text/plain": [
       "'study agya'"
      ]
     },
     "execution_count": 1,
     "metadata": {},
     "output_type": "execute_result"
    }
   ],
   "source": [
    "class parent:\n",
    "    def __init__(self,bp,gussa):\n",
    "        self.bp=bp\n",
    "        self.gussa=gussa\n",
    "        \n",
    "        \n",
    "    \n",
    "class child (parent):\n",
    "    def __init__(self,bp,gussa,study):\n",
    "        parent.__init__(self,bp,gussa)\n",
    "        self.study=study\n",
    "        \n",
    "c=child(\"bp agya\",\"gussa agya\",\"study agya\")\n",
    "c.study\n",
    "    "
   ]
  },
  {
   "cell_type": "code",
   "execution_count": 4,
   "id": "d474b438",
   "metadata": {},
   "outputs": [
    {
     "name": "stdout",
     "output_type": "stream",
     "text": [
      "10.0\n"
     ]
    }
   ],
   "source": [
    "class track:\n",
    "    def __init__(self,dis,tim):\n",
    "        self.dis=dis\n",
    "        self.tim=tim\n",
    "        \n",
    "        \n",
    "class car(track):\n",
    "    def __init__(self,dis,tim):\n",
    "        super().__init__(dis,tim)\n",
    "        \n",
    "       \n",
    "    def speed(self):\n",
    "        s=self.dis/self.tim\n",
    "        print(s)\n",
    "c=car(20,2)\n",
    "\n",
    "c.speed()"
   ]
  },
  {
   "cell_type": "code",
   "execution_count": null,
   "id": "c3bd6ab6",
   "metadata": {},
   "outputs": [],
   "source": []
  },
  {
   "cell_type": "code",
   "execution_count": null,
   "id": "19c91ee9",
   "metadata": {},
   "outputs": [],
   "source": []
  },
  {
   "cell_type": "code",
   "execution_count": null,
   "id": "b46725ac",
   "metadata": {},
   "outputs": [],
   "source": []
  }
 ],
 "metadata": {
  "kernelspec": {
   "display_name": "Python 3 (ipykernel)",
   "language": "python",
   "name": "python3"
  },
  "language_info": {
   "codemirror_mode": {
    "name": "ipython",
    "version": 3
   },
   "file_extension": ".py",
   "mimetype": "text/x-python",
   "name": "python",
   "nbconvert_exporter": "python",
   "pygments_lexer": "ipython3",
   "version": "3.9.12"
  }
 },
 "nbformat": 4,
 "nbformat_minor": 5
}
