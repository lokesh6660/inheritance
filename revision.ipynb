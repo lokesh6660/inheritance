{
 "cells": [
  {
   "cell_type": "code",
   "execution_count": 4,
   "id": "af78a572",
   "metadata": {},
   "outputs": [
    {
     "name": "stdout",
     "output_type": "stream",
     "text": [
      "1\n",
      "2\n",
      "3\n",
      "4\n"
     ]
    }
   ],
   "source": [
    "a=(1,2,3,4)\n",
    "\n",
    "for i in a:\n",
    "    print(i)"
   ]
  },
  {
   "cell_type": "code",
   "execution_count": 5,
   "id": "26b0f387",
   "metadata": {},
   "outputs": [
    {
     "data": {
      "text/plain": [
       "tuple"
      ]
     },
     "execution_count": 5,
     "metadata": {},
     "output_type": "execute_result"
    }
   ],
   "source": [
    "type(a)"
   ]
  },
  {
   "cell_type": "code",
   "execution_count": 8,
   "id": "ea891876",
   "metadata": {},
   "outputs": [
    {
     "name": "stdout",
     "output_type": "stream",
     "text": [
      "10\n",
      "9\n",
      "8\n",
      "7\n",
      "6\n",
      "5\n",
      "4\n",
      "3\n",
      "2\n",
      "1\n"
     ]
    }
   ],
   "source": [
    "for i in range(10,0,-1):\n",
    "    print(i)"
   ]
  },
  {
   "cell_type": "code",
   "execution_count": 10,
   "id": "21557e0d",
   "metadata": {},
   "outputs": [
    {
     "name": "stdout",
     "output_type": "stream",
     "text": [
      "even number: 0\n",
      "odd number: 1\n",
      "even number: 2\n",
      "odd number: 3\n",
      "even number: 4\n",
      "odd number: 5\n",
      "even number: 6\n",
      "odd number: 7\n",
      "even number: 8\n",
      "odd number: 9\n",
      "even number: 10\n",
      "odd number: 11\n",
      "even number: 12\n",
      "odd number: 13\n",
      "even number: 14\n",
      "odd number: 15\n",
      "even number: 16\n",
      "odd number: 17\n",
      "even number: 18\n",
      "odd number: 19\n",
      "even number: 20\n",
      "odd number: 21\n",
      "even number: 22\n",
      "odd number: 23\n",
      "even number: 24\n",
      "odd number: 25\n",
      "even number: 26\n",
      "odd number: 27\n",
      "even number: 28\n",
      "odd number: 29\n",
      "even number: 30\n",
      "odd number: 31\n",
      "even number: 32\n",
      "odd number: 33\n",
      "even number: 34\n",
      "odd number: 35\n",
      "even number: 36\n",
      "odd number: 37\n",
      "even number: 38\n",
      "odd number: 39\n",
      "even number: 40\n",
      "odd number: 41\n",
      "even number: 42\n",
      "odd number: 43\n",
      "even number: 44\n",
      "odd number: 45\n",
      "even number: 46\n",
      "odd number: 47\n",
      "even number: 48\n",
      "odd number: 49\n"
     ]
    }
   ],
   "source": [
    "for i in range(0,50):\n",
    "    if(i%2)==0:\n",
    "        print(\"even number:\",i)\n",
    "    else:\n",
    "        print(\"odd number:\",i)"
   ]
  },
  {
   "cell_type": "code",
   "execution_count": 1,
   "id": "6ad8436e",
   "metadata": {},
   "outputs": [
    {
     "name": "stdout",
     "output_type": "stream",
     "text": [
      "it's even 0\n",
      "it's odd 1\n",
      "it's even 2\n",
      "it's odd 3\n",
      "it's even 4\n",
      "it's odd 5\n",
      "it's even 6\n",
      "it's odd 7\n",
      "it's even 8\n",
      "it's odd 9\n",
      "it's even 10\n",
      "it's odd 11\n",
      "it's even 12\n",
      "it's odd 13\n",
      "it's even 14\n",
      "it's odd 15\n",
      "it's even 16\n",
      "it's odd 17\n",
      "it's even 18\n",
      "it's odd 19\n",
      "it's even 20\n",
      "it's odd 21\n",
      "it's even 22\n",
      "it's odd 23\n",
      "it's even 24\n",
      "it's odd 25\n",
      "it's even 26\n",
      "it's odd 27\n",
      "it's even 28\n",
      "it's odd 29\n",
      "it's even 30\n",
      "it's odd 31\n",
      "it's even 32\n",
      "it's odd 33\n",
      "it's even 34\n",
      "it's odd 35\n",
      "it's even 36\n",
      "it's odd 37\n",
      "it's even 38\n",
      "it's odd 39\n",
      "it's even 40\n",
      "it's odd 41\n",
      "it's even 42\n",
      "it's odd 43\n",
      "it's even 44\n",
      "it's odd 45\n",
      "it's even 46\n",
      "it's odd 47\n",
      "it's even 48\n",
      "it's odd 49\n",
      "it's even 50\n"
     ]
    }
   ],
   "source": [
    "i=0\n",
    "while(i<=50):\n",
    "    if(i%2)==0:\n",
    "        print(\"it's even\",i)\n",
    "    else:\n",
    "        print(\"it's odd\",i)\n",
    "    i=i+1    "
   ]
  },
  {
   "cell_type": "code",
   "execution_count": 6,
   "id": "afa69f84",
   "metadata": {},
   "outputs": [
    {
     "data": {
      "text/plain": [
       "[9, 8, 7, 6, 5, 4, 3, 2]"
      ]
     },
     "execution_count": 6,
     "metadata": {},
     "output_type": "execute_result"
    }
   ],
   "source": [
    "a=[1,2,3,4,5,6,7,8,9]\n",
    "a[8:0:-1]"
   ]
  },
  {
   "cell_type": "code",
   "execution_count": 5,
   "id": "b94e29af",
   "metadata": {},
   "outputs": [
    {
     "data": {
      "text/plain": [
       "[9, 8, 7, 6, 5, 4, 3, 2, 1]"
      ]
     },
     "execution_count": 5,
     "metadata": {},
     "output_type": "execute_result"
    }
   ],
   "source": [
    "a.sort(reverse= True)\n",
    "a"
   ]
  },
  {
   "cell_type": "code",
   "execution_count": 7,
   "id": "86226655",
   "metadata": {},
   "outputs": [
    {
     "data": {
      "text/plain": [
       "9"
      ]
     },
     "execution_count": 7,
     "metadata": {},
     "output_type": "execute_result"
    }
   ],
   "source": [
    "x=0\n",
    "for i in a:\n",
    "    if x<i:\n",
    "        x=i\n",
    "x        "
   ]
  },
  {
   "cell_type": "code",
   "execution_count": 12,
   "id": "d4d74100",
   "metadata": {},
   "outputs": [
    {
     "data": {
      "text/plain": [
       "15"
      ]
     },
     "execution_count": 12,
     "metadata": {},
     "output_type": "execute_result"
    }
   ],
   "source": [
    "x=(2,13,[14,[15]])\n",
    "x[2][1][0]"
   ]
  },
  {
   "cell_type": "code",
   "execution_count": 16,
   "id": "bb9ce5b4",
   "metadata": {},
   "outputs": [
    {
     "data": {
      "text/plain": [
       "(12, 13, 14, 15)"
      ]
     },
     "execution_count": 16,
     "metadata": {},
     "output_type": "execute_result"
    }
   ],
   "source": [
    "z=(12,13,14)\n",
    "z=z+(15,)\n",
    "z\n"
   ]
  },
  {
   "cell_type": "code",
   "execution_count": 18,
   "id": "569af665",
   "metadata": {},
   "outputs": [
    {
     "data": {
      "text/plain": [
       "(12, 34, 56, 78)"
      ]
     },
     "execution_count": 18,
     "metadata": {},
     "output_type": "execute_result"
    }
   ],
   "source": [
    "b=[12,34,56,78]\n",
    "y=tuple(b)\n",
    "y"
   ]
  },
  {
   "cell_type": "code",
   "execution_count": 20,
   "id": "cd5ed3ea",
   "metadata": {},
   "outputs": [
    {
     "data": {
      "text/plain": [
       "(13, 14, 15)"
      ]
     },
     "execution_count": 20,
     "metadata": {},
     "output_type": "execute_result"
    }
   ],
   "source": [
    "z=list(z)\n",
    "z.remove(12)\n",
    "z=tuple(z)\n",
    "z"
   ]
  },
  {
   "cell_type": "code",
   "execution_count": 21,
   "id": "c3b1ae95",
   "metadata": {},
   "outputs": [
    {
     "data": {
      "text/plain": [
       "2"
      ]
     },
     "execution_count": 21,
     "metadata": {},
     "output_type": "execute_result"
    }
   ],
   "source": [
    "z.index(15)"
   ]
  },
  {
   "cell_type": "code",
   "execution_count": 22,
   "id": "2d18ed7d",
   "metadata": {},
   "outputs": [
    {
     "data": {
      "text/plain": [
       "[1, 2, 3, 4, 5, 6, 7, 8, 9]"
      ]
     },
     "execution_count": 22,
     "metadata": {},
     "output_type": "execute_result"
    }
   ],
   "source": [
    "t=(6,7,8,9)\n",
    "l=[1,2,3,4,5]\n",
    "t=list(t)\n",
    "for i in t:\n",
    "    l.append(i)\n",
    "l    "
   ]
  },
  {
   "cell_type": "code",
   "execution_count": 27,
   "id": "65df5dd8",
   "metadata": {},
   "outputs": [
    {
     "name": "stdout",
     "output_type": "stream",
     "text": [
      "enter any number:5\n",
      "0\n",
      "1\n",
      "2\n",
      "3\n",
      "4\n",
      "5\n"
     ]
    }
   ],
   "source": [
    "v=int(input(\"enter any number:\"))\n",
    "for i in range(v+1):\n",
    "    print(i)"
   ]
  },
  {
   "cell_type": "code",
   "execution_count": 2,
   "id": "5e3afafc",
   "metadata": {},
   "outputs": [
    {
     "name": "stdout",
     "output_type": "stream",
     "text": [
      "enter a number:12\n",
      "enter another number13\n",
      "add of two number is: 25\n",
      "enter a string:luvky\n",
      "enter another string:x\n",
      "add of two string: luvkyx\n"
     ]
    }
   ],
   "source": [
    "class add:\n",
    "    def __init__(self):\n",
    "        a=int(input(\"enter a number:\"))\n",
    "        b=int(input(\"enter another number\"))\n",
    "        c=a+b\n",
    "        print(\"add of two number is:\",c)\n",
    "        \n",
    "    def add2(self):\n",
    "        a=str(input(\"enter a string:\"))\n",
    "        b=str(input(\"enter another string:\"))\n",
    "        c=a+b\n",
    "        print(\"add of two string:\",c)\n",
    "\n",
    "x=add()\n",
    "x.add2()"
   ]
  },
  {
   "cell_type": "code",
   "execution_count": 16,
   "id": "ac8fe5a7",
   "metadata": {},
   "outputs": [
    {
     "name": "stdout",
     "output_type": "stream",
     "text": [
      "add of two number: 50\n"
     ]
    }
   ],
   "source": [
    "class add:\n",
    "    \n",
    "    def add2(self,x=10,y=20):\n",
    "        \n",
    "        c=x+y\n",
    "        print(\"add of two number:\",c)\n",
    "\n",
    "\n",
    "x=add()\n",
    "x.add2(30)\n",
    "\n"
   ]
  },
  {
   "cell_type": "code",
   "execution_count": 24,
   "id": "43ea1fc0",
   "metadata": {},
   "outputs": [],
   "source": [
    "class phone1:\n",
    "    def __init__(self,ver,model):\n",
    "        self.ver=ver\n",
    "        self.model=model\n",
    "    def company(self):\n",
    "        print(\"company=xyz\")\n",
    "class phone2(phone1):\n",
    "    def __init__(self,cost,ver,model):\n",
    "        super().__init__(ver,model)\n",
    "        self.cost=cost\n",
    "    def company(self):\n",
    "        print(\"company=abc\")    \n",
    "\n",
    "x=phone2(20000,1,\"v18\")"
   ]
  },
  {
   "cell_type": "code",
   "execution_count": 25,
   "id": "245f0497",
   "metadata": {},
   "outputs": [
    {
     "name": "stdout",
     "output_type": "stream",
     "text": [
      "company=abc\n"
     ]
    }
   ],
   "source": [
    "\n",
    "x.company()"
   ]
  },
  {
   "cell_type": "code",
   "execution_count": 23,
   "id": "7d3edf0e",
   "metadata": {},
   "outputs": [
    {
     "data": {
      "text/plain": [
       "'v18'"
      ]
     },
     "execution_count": 23,
     "metadata": {},
     "output_type": "execute_result"
    }
   ],
   "source": [
    "x.model"
   ]
  },
  {
   "cell_type": "code",
   "execution_count": 4,
   "id": "5ba0ef6f",
   "metadata": {},
   "outputs": [
    {
     "name": "stdout",
     "output_type": "stream",
     "text": [
      "print the append list: [0, 1, 2, 3, 4, 5, 6, 7, 8, 9]\n"
     ]
    }
   ],
   "source": [
    "a=[0,1,2,3,4]\n",
    "b=[5,6,7,8,9]\n",
    "for i in b:\n",
    "    a.append(i)\n",
    "print(\"print the append list:\",a)    "
   ]
  },
  {
   "cell_type": "code",
   "execution_count": 5,
   "id": "cf2e8501",
   "metadata": {},
   "outputs": [
    {
     "data": {
      "text/plain": [
       "[1, 2, 3, 4, 5, 6]"
      ]
     },
     "execution_count": 5,
     "metadata": {},
     "output_type": "execute_result"
    }
   ],
   "source": [
    "a=[1,2,3,4,5]\n",
    "a.insert(5,6)\n",
    "a"
   ]
  },
  {
   "cell_type": "code",
   "execution_count": 6,
   "id": "fa14bc95",
   "metadata": {},
   "outputs": [
    {
     "data": {
      "text/plain": [
       "6"
      ]
     },
     "execution_count": 6,
     "metadata": {},
     "output_type": "execute_result"
    }
   ],
   "source": [
    "a.pop()"
   ]
  },
  {
   "cell_type": "code",
   "execution_count": 10,
   "id": "37d53549",
   "metadata": {},
   "outputs": [
    {
     "name": "stdout",
     "output_type": "stream",
     "text": [
      "the number is a prime: 0\n",
      "the number is a prime: 1\n",
      "the number is a prime: 2\n",
      "the number is a prime: 3\n",
      "the number is not a prime: 4\n",
      "the number is a prime: 5\n",
      "the number is not a prime: 6\n",
      "the number is a prime: 7\n",
      "the number is not a prime: 8\n",
      "the number is not a prime: 9\n"
     ]
    }
   ],
   "source": [
    "for i in range(0,10):\n",
    "    for j in range(2,i):\n",
    "        if(i%j)==0:\n",
    "            print(\"the number is not a prime:\",i)\n",
    "            break\n",
    "    else:\n",
    "        print(\"the number is a prime:\",i)"
   ]
  },
  {
   "cell_type": "code",
   "execution_count": 14,
   "id": "5db3d378",
   "metadata": {},
   "outputs": [
    {
     "data": {
      "text/plain": [
       "['z', 'y', 'x', 'd', 'c', 'b', 'a']"
      ]
     },
     "execution_count": 14,
     "metadata": {},
     "output_type": "execute_result"
    }
   ],
   "source": [
    "a=\"abcdxyz\"\n",
    "w=[]\n",
    "for i in a:\n",
    "    w.append(i)\n",
    "    \n",
    "w.sort(reverse=True)\n",
    "str(w)\n",
    "w"
   ]
  },
  {
   "cell_type": "code",
   "execution_count": 15,
   "id": "49f1f113",
   "metadata": {},
   "outputs": [
    {
     "name": "stdout",
     "output_type": "stream",
     "text": [
      "average of the sum of numer in the list: 41.8\n"
     ]
    }
   ],
   "source": [
    "a=[10,20,45,56,78]\n",
    "avr=0\n",
    "count=0\n",
    "for i in a:\n",
    "    avr=avr+i\n",
    "    count=count+1\n",
    "\n",
    "avr=avr/count\n",
    "print(\"average of the sum of numer in the list:\",avr)"
   ]
  },
  {
   "cell_type": "code",
   "execution_count": 22,
   "id": "7141fe0f",
   "metadata": {},
   "outputs": [
    {
     "name": "stdout",
     "output_type": "stream",
     "text": [
      "befor swaping:\n",
      "a= 10\n",
      "b= 40\n",
      "after swaping:\n",
      "a= 40\n",
      "b= 10\n"
     ]
    }
   ],
   "source": [
    "a=10\n",
    "b=40\n",
    "print(\"befor swaping:\")\n",
    "print(\"a=\",a)\n",
    "print(\"b=\",b)\n",
    "a=a+b\n",
    "b=a-b\n",
    "a=a-b\n",
    "print(\"after swaping:\")\n",
    "print(\"a=\",a)\n",
    "print(\"b=\",b)"
   ]
  },
  {
   "cell_type": "code",
   "execution_count": 6,
   "id": "5ebacfe9",
   "metadata": {},
   "outputs": [
    {
     "name": "stdout",
     "output_type": "stream",
     "text": [
      "hello\n",
      "salary= 200000\n"
     ]
    }
   ],
   "source": [
    "from abc import ABC,abstractmethod\n",
    "class emp(ABC):\n",
    "    @abstractmethod\n",
    "    def __init__(self):\n",
    "        print(\"hello\")\n",
    "    def emp1(self):\n",
    "        print(\"name=xyz\")\n",
    "class sal(emp):\n",
    "    def __init__(self):\n",
    "        super().__init__()\n",
    "    def salary(self,sal=200000):\n",
    "        print(\"salary=\",sal)\n",
    "x=sal()\n",
    "x.salary()\n"
   ]
  },
  {
   "cell_type": "code",
   "execution_count": 7,
   "id": "d7d82410",
   "metadata": {},
   "outputs": [
    {
     "data": {
      "text/plain": [
       "[67, 89, 90]"
      ]
     },
     "execution_count": 7,
     "metadata": {},
     "output_type": "execute_result"
    }
   ],
   "source": [
    "a=[12,45,67,89,90,23]\n",
    "b=[]\n",
    "for i in a:\n",
    "    if(i>=60):\n",
    "        b.append(i)\n",
    "b        "
   ]
  },
  {
   "cell_type": "code",
   "execution_count": 9,
   "id": "dd92c273",
   "metadata": {},
   "outputs": [
    {
     "name": "stdout",
     "output_type": "stream",
     "text": [
      "enter any number to find square:12\n"
     ]
    },
    {
     "data": {
      "text/plain": [
       "144"
      ]
     },
     "execution_count": 9,
     "metadata": {},
     "output_type": "execute_result"
    }
   ],
   "source": [
    "q=int(input(\"enter any number to find square:\"))\n",
    "a=lambda q:q*q\n",
    "a(q)"
   ]
  },
  {
   "cell_type": "code",
   "execution_count": 10,
   "id": "332dac50",
   "metadata": {},
   "outputs": [
    {
     "data": {
      "text/plain": [
       "2.5"
      ]
     },
     "execution_count": 10,
     "metadata": {},
     "output_type": "execute_result"
    }
   ],
   "source": [
    "b=lambda a,b,c,d:(a+b+c+d)/4\n",
    "b(1,2,3,4)"
   ]
  },
  {
   "cell_type": "code",
   "execution_count": 11,
   "id": "f75d6396",
   "metadata": {},
   "outputs": [
    {
     "name": "stdout",
     "output_type": "stream",
     "text": [
      "enter any number:12\n",
      "even number: 12\n"
     ]
    }
   ],
   "source": [
    "z=lambda n:n%2\n",
    "\n",
    "\n",
    "if(z(n)==0):\n",
    "    print(\"even number:\",n)\n",
    "else:\n",
    "    print(\"odd number:\",n)"
   ]
  },
  {
   "cell_type": "code",
   "execution_count": 12,
   "id": "39f0e1bc",
   "metadata": {},
   "outputs": [
    {
     "data": {
      "text/plain": [
       "[67, 78, 89, 90]"
      ]
     },
     "execution_count": 12,
     "metadata": {},
     "output_type": "execute_result"
    }
   ],
   "source": [
    "x=[23,45,56,67,78,89,90]\n",
    "list(filter(lambda x: True if(x>=60) else False,x))"
   ]
  },
  {
   "cell_type": "code",
   "execution_count": 3,
   "id": "8b2a7c21",
   "metadata": {},
   "outputs": [
    {
     "name": "stdout",
     "output_type": "stream",
     "text": [
      "[1, 4, 9, 16, 25]\n"
     ]
    }
   ],
   "source": [
    "#map\n",
    "a=[1,2,3,4,5]\n",
    "z=list(map(lambda i:i**2,a))\n",
    "print(z)"
   ]
  },
  {
   "cell_type": "code",
   "execution_count": 6,
   "id": "22ad6552",
   "metadata": {},
   "outputs": [
    {
     "data": {
      "text/plain": [
       "85"
      ]
     },
     "execution_count": 6,
     "metadata": {},
     "output_type": "execute_result"
    }
   ],
   "source": [
    "from functools import reduce\n",
    "p=[23,14,15,12,21]\n",
    "reduce(lambda x,y:x+y,p)"
   ]
  },
  {
   "cell_type": "code",
   "execution_count": null,
   "id": "8bf97713",
   "metadata": {},
   "outputs": [],
   "source": []
  },
  {
   "cell_type": "code",
   "execution_count": null,
   "id": "30a1c26a",
   "metadata": {},
   "outputs": [],
   "source": []
  }
 ],
 "metadata": {
  "kernelspec": {
   "display_name": "Python 3 (ipykernel)",
   "language": "python",
   "name": "python3"
  },
  "language_info": {
   "codemirror_mode": {
    "name": "ipython",
    "version": 3
   },
   "file_extension": ".py",
   "mimetype": "text/x-python",
   "name": "python",
   "nbconvert_exporter": "python",
   "pygments_lexer": "ipython3",
   "version": "3.9.12"
  }
 },
 "nbformat": 4,
 "nbformat_minor": 5
}
