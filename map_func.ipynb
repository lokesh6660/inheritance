{
 "cells": [
  {
   "cell_type": "code",
   "execution_count": 1,
   "id": "732073bf",
   "metadata": {},
   "outputs": [
    {
     "name": "stdout",
     "output_type": "stream",
     "text": [
      "[1, 4, 9, 16]\n"
     ]
    }
   ],
   "source": [
    "#without map func\n",
    "\n",
    "a=[1,2,3,4]\n",
    "b=[]\n",
    "for i in a:\n",
    "    i=i*i\n",
    "    b.append(i)\n",
    "print(b)    "
   ]
  },
  {
   "cell_type": "code",
   "execution_count": 1,
   "id": "86d0ec20",
   "metadata": {},
   "outputs": [
    {
     "name": "stdout",
     "output_type": "stream",
     "text": [
      "[1, 4, 9, 16]\n"
     ]
    }
   ],
   "source": [
    "a=[1,2,3,4]\n",
    "z=list(map(lambda i:i**2,a))\n",
    "print(z)"
   ]
  },
  {
   "cell_type": "code",
   "execution_count": 13,
   "id": "25ce46cd",
   "metadata": {},
   "outputs": [
    {
     "name": "stdout",
     "output_type": "stream",
     "text": [
      "[3, 6, 9]\n"
     ]
    }
   ],
   "source": [
    "#questions\n",
    "#1.write a python program to tripal all numbers of a given list of integers useing \n",
    "#map function\n",
    "a=[1,2,3]\n",
    "z=list(map(lambda i:i*3,a))\n",
    "print(z)"
   ]
  },
  {
   "cell_type": "code",
   "execution_count": 15,
   "id": "ed60acfb",
   "metadata": {},
   "outputs": [
    {
     "name": "stdout",
     "output_type": "stream",
     "text": [
      "[12, 15, 18]\n"
     ]
    }
   ],
   "source": [
    "#2.write a python program to add three given list using map and lambda function  \n",
    "a=[1,2,3]\n",
    "b=[4,5,6]\n",
    "c=[7,8,9]\n",
    "z=list(map(lambda c,b,a:a+b+c,a,b,c))\n",
    "print(z)"
   ]
  },
  {
   "cell_type": "code",
   "execution_count": 17,
   "id": "f902d5f9",
   "metadata": {},
   "outputs": [
    {
     "name": "stdout",
     "output_type": "stream",
     "text": [
      "[1, 4, 9, 16]\n"
     ]
    }
   ],
   "source": [
    "#3.write a python program to square the element of a list using map function\n",
    "a=[1,2,3,4]\n",
    "z=list(map(lambda i:i**2,a))\n",
    "print(z)"
   ]
  },
  {
   "cell_type": "code",
   "execution_count": 12,
   "id": "df650ab0",
   "metadata": {},
   "outputs": [
    {
     "data": {
      "text/plain": [
       "3.0"
      ]
     },
     "execution_count": 12,
     "metadata": {},
     "output_type": "execute_result"
    }
   ],
   "source": [
    "#4.write a program to find the average of 5 numbers using lambda function\n",
    "\n",
    "x=lambda a,b,c,d,e:(a+b+c+d+e)/5\n",
    "x(1,2,3,4,5)\n"
   ]
  },
  {
   "cell_type": "code",
   "execution_count": 32,
   "id": "9359071f",
   "metadata": {},
   "outputs": [
    {
     "ename": "SyntaxError",
     "evalue": "invalid syntax (253285998.py, line 3)",
     "output_type": "error",
     "traceback": [
      "\u001b[1;36m  Input \u001b[1;32mIn [32]\u001b[1;36m\u001b[0m\n\u001b[1;33m    x=list(filter(lambda z:((if(a>=c)\"a is max\"else \"c is max\"(if(a>=b))\"b is max\"elif(b>=c) else \"a is max\")))\u001b[0m\n\u001b[1;37m                             ^\u001b[0m\n\u001b[1;31mSyntaxError\u001b[0m\u001b[1;31m:\u001b[0m invalid syntax\n"
     ]
    }
   ],
   "source": [
    "#5.wap to find the max and min of 3 numbers \n",
    "z=[12,13,11]\n",
    "x=list(filter(lambda z:((if(a>=c)\"a is max\"else \"c is max\"(if(a>=b))\"b is max\"elif(b>=c) else \"a is max\")))\n",
    "print(x)"
   ]
  },
  {
   "cell_type": "code",
   "execution_count": null,
   "id": "295f1a8d",
   "metadata": {},
   "outputs": [],
   "source": []
  }
 ],
 "metadata": {
  "kernelspec": {
   "display_name": "Python 3 (ipykernel)",
   "language": "python",
   "name": "python3"
  },
  "language_info": {
   "codemirror_mode": {
    "name": "ipython",
    "version": 3
   },
   "file_extension": ".py",
   "mimetype": "text/x-python",
   "name": "python",
   "nbconvert_exporter": "python",
   "pygments_lexer": "ipython3",
   "version": "3.9.12"
  }
 },
 "nbformat": 4,
 "nbformat_minor": 5
}
