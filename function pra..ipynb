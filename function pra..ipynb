{
 "cells": [
  {
   "cell_type": "code",
   "execution_count": 9,
   "id": "16364213",
   "metadata": {},
   "outputs": [
    {
     "ename": "SyntaxError",
     "evalue": "non-default argument follows default argument (2872327005.py, line 1)",
     "output_type": "error",
     "traceback": [
      "\u001b[1;36m  Input \u001b[1;32mIn [9]\u001b[1;36m\u001b[0m\n\u001b[1;33m    def add(x=9,y):\u001b[0m\n\u001b[1;37m                 ^\u001b[0m\n\u001b[1;31mSyntaxError\u001b[0m\u001b[1;31m:\u001b[0m non-default argument follows default argument\n"
     ]
    }
   ],
   "source": [
    "def add(x=9,y):\n",
    "    result=x+y\n",
    "    return result \n",
    "\n",
    "add(2)"
   ]
  },
  {
   "cell_type": "code",
   "execution_count": 10,
   "id": "ae05edf4",
   "metadata": {},
   "outputs": [
    {
     "data": {
      "text/plain": [
       "5"
      ]
     },
     "execution_count": 10,
     "metadata": {},
     "output_type": "execute_result"
    }
   ],
   "source": [
    "add(2)"
   ]
  },
  {
   "cell_type": "code",
   "execution_count": 13,
   "id": "aa9e2f40",
   "metadata": {},
   "outputs": [
    {
     "name": "stdout",
     "output_type": "stream",
     "text": [
      "c is max: 30\n"
     ]
    }
   ],
   "source": [
    "a=10\n",
    "b=20\n",
    "c=30\n",
    "def max1():\n",
    "    if(a>b):\n",
    "        if(a>c):\n",
    "            print(\"a is max:\",a)\n",
    "        else:     \n",
    "            print(\"c is max:\",c)\n",
    "    elif(b>a):\n",
    "        if(b>c):\n",
    "            print(\"b is max:\",b)\n",
    "        else:\n",
    "            print(\"c is max:\",c)\n",
    "        \n",
    "            \n",
    "max1()"
   ]
  },
  {
   "cell_type": "code",
   "execution_count": 14,
   "id": "9b079c5d",
   "metadata": {},
   "outputs": [
    {
     "name": "stdout",
     "output_type": "stream",
     "text": [
      "a is min: 10\n"
     ]
    }
   ],
   "source": [
    "a=10\n",
    "b=20\n",
    "c=30\n",
    "def max1():\n",
    "    if(a<b):\n",
    "        if(a<c):\n",
    "            print(\"a is min:\",a)\n",
    "        else:     \n",
    "            print(\"c is min:\",c)\n",
    "    elif(b<a):\n",
    "        if(b<c):\n",
    "            print(\"b is min:\",b)\n",
    "        else:\n",
    "            print(\"c is min:\",c)\n",
    "        \n",
    "            \n",
    "max1()"
   ]
  },
  {
   "cell_type": "code",
   "execution_count": 7,
   "id": "5c7278a1",
   "metadata": {},
   "outputs": [
    {
     "data": {
      "text/plain": [
       "60"
      ]
     },
     "execution_count": 7,
     "metadata": {},
     "output_type": "execute_result"
    }
   ],
   "source": [
    "\n",
    "def add():\n",
    "    a=[10,20,30]\n",
    "    sum1=0\n",
    "    for i in a:\n",
    "        sum1=sum1+i\n",
    "    return sum1    \n",
    "\n",
    "add()"
   ]
  },
  {
   "cell_type": "code",
   "execution_count": 3,
   "id": "b90fe54c",
   "metadata": {},
   "outputs": [
    {
     "name": "stdout",
     "output_type": "stream",
     "text": [
      "enter the number:3\n",
      "it is odd: 3\n"
     ]
    }
   ],
   "source": [
    "n= int(input(\"enter the number:\"))\n",
    "def odd():\n",
    "    if n%2==0:\n",
    "        print(\"it is even number:\",n)\n",
    "    else:\n",
    "        print(\"it is odd:\",n)\n",
    "        \n",
    "odd()        "
   ]
  },
  {
   "cell_type": "code",
   "execution_count": 1,
   "id": "cb289e0a",
   "metadata": {},
   "outputs": [
    {
     "name": "stdout",
     "output_type": "stream",
     "text": [
      "enter mask of sutdent1:12\n",
      "enter mask of sutdent2:13\n",
      "enter mask of sutdent3:14\n",
      "enter mask of sutdent4:15\n",
      "enter mask of sutdent5:26\n"
     ]
    },
    {
     "data": {
      "text/plain": [
       "16.0"
      ]
     },
     "execution_count": 1,
     "metadata": {},
     "output_type": "execute_result"
    }
   ],
   "source": [
    "\n",
    "\n",
    "def per():\n",
    "    s1=int(input(\"enter mask of sutdent1:\"))\n",
    "    s2=int(input(\"enter mask of sutdent2:\"))\n",
    "    s3=int(input(\"enter mask of sutdent3:\"))\n",
    "    s4=int(input(\"enter mask of sutdent4:\"))\n",
    "    s5=int(input(\"enter mask of sutdent5:\"))\n",
    "    avr=(s1+s2+s3+s4+s5)/5\n",
    "    \n",
    "    return avr\n",
    "per()"
   ]
  },
  {
   "cell_type": "code",
   "execution_count": 3,
   "id": "0bc8ea2d",
   "metadata": {},
   "outputs": [
    {
     "name": "stdout",
     "output_type": "stream",
     "text": [
      "sum of 10 natural number: 45\n"
     ]
    }
   ],
   "source": [
    "def add():\n",
    "    a=0\n",
    "    for i in range(0,10):\n",
    "        a=a+i\n",
    "    print(\"sum of 10 natural number:\",a)  \n",
    "add()    "
   ]
  },
  {
   "cell_type": "code",
   "execution_count": 6,
   "id": "24ac86db",
   "metadata": {},
   "outputs": [
    {
     "name": "stdout",
     "output_type": "stream",
     "text": [
      "np\n"
     ]
    }
   ],
   "source": [
    "#palindrome\n",
    "a=\"hello\"\n",
    "b=\"\"\n",
    "for i in a:\n",
    "    b=i+b\n",
    "if a==b:\n",
    "    print(\"p\")\n",
    "else:\n",
    "    print(\"np\")"
   ]
  },
  {
   "cell_type": "code",
   "execution_count": 11,
   "id": "4788109f",
   "metadata": {},
   "outputs": [
    {
     "name": "stdout",
     "output_type": "stream",
     "text": [
      "mam\n",
      "mam\n",
      "it is not reverse strng\n"
     ]
    }
   ],
   "source": [
    "s1=\"mam\"\n",
    "s2=\"\"\n",
    "for i in s1:\n",
    "    s2=i+s2\n",
    "def rev():\n",
    "    print(s1)\n",
    "    print(s2)\n",
    "    if s1!=s2:\n",
    "        print(\"it is reverse string\")\n",
    "    else:\n",
    "        print(\"it is not reverse strng\")\n",
    "rev()        "
   ]
  },
  {
   "cell_type": "code",
   "execution_count": 9,
   "id": "76f3ec72",
   "metadata": {},
   "outputs": [
    {
     "name": "stdout",
     "output_type": "stream",
     "text": [
      "enter any number:2\n",
      "it is a prime number: 2\n"
     ]
    }
   ],
   "source": [
    "\n",
    "def prime():\n",
    "    n=int(input(\"enter any number:\"))\n",
    "    for i in range(2,n):\n",
    "        if (n%i)==0:\n",
    "            print(\"it is not a prime number:\",n)\n",
    "            break\n",
    "    else:\n",
    "        print(\"it is a prime number:\",n)\n",
    "            \n",
    "prime()    "
   ]
  },
  {
   "cell_type": "code",
   "execution_count": 3,
   "id": "d3258940",
   "metadata": {},
   "outputs": [
    {
     "name": "stdout",
     "output_type": "stream",
     "text": [
      "print the fabonacci series\n",
      "enter how many term:7\n",
      "0\n",
      "1\n",
      "1\n",
      "2\n",
      "3\n",
      "5\n",
      "8\n"
     ]
    }
   ],
   "source": [
    "print(\"print the fabonacci series\")\n",
    "x=int(input(\"enter how many term:\"))\n",
    "def fab(x):\n",
    "    n1,n2=0,1\n",
    "    count=0\n",
    "    if(x<=0):\n",
    "        print(\"please enter a positive integer\")\n",
    "    elif x==1:\n",
    "        print(n1)\n",
    "    else:\n",
    "        while(count<x):\n",
    "            print(n1)\n",
    "            n3=n1+n2\n",
    "            n1=n2\n",
    "            n2=n3\n",
    "            count=count+1\n",
    "fab(x)            \n",
    "        "
   ]
  },
  {
   "cell_type": "markdown",
   "id": "c40bb53e",
   "metadata": {},
   "source": [
    "### "
   ]
  }
 ],
 "metadata": {
  "kernelspec": {
   "display_name": "Python 3 (ipykernel)",
   "language": "python",
   "name": "python3"
  },
  "language_info": {
   "codemirror_mode": {
    "name": "ipython",
    "version": 3
   },
   "file_extension": ".py",
   "mimetype": "text/x-python",
   "name": "python",
   "nbconvert_exporter": "python",
   "pygments_lexer": "ipython3",
   "version": "3.9.12"
  }
 },
 "nbformat": 4,
 "nbformat_minor": 5
}
