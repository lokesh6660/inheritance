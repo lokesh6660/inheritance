{
 "cells": [
  {
   "cell_type": "markdown",
   "id": "eba6401d",
   "metadata": {},
   "source": [
    "w=[1,2,3,4,0,9,8,7,6]\n",
    "print(\"print the value of list:\")\n",
    "for i in w:\n",
    "    print(i)"
   ]
  },
  {
   "cell_type": "code",
   "execution_count": 5,
   "id": "d4c79339",
   "metadata": {},
   "outputs": [
    {
     "name": "stdout",
     "output_type": "stream",
     "text": [
      "100\n",
      "101\n",
      "102\n",
      "103\n",
      "104\n",
      "105\n",
      "106\n",
      "107\n",
      "108\n",
      "109\n"
     ]
    }
   ],
   "source": [
    "for i in range(100,110):\n",
    "    print(i)\n",
    "    "
   ]
  },
  {
   "cell_type": "code",
   "execution_count": 7,
   "id": "21cbb011",
   "metadata": {},
   "outputs": [
    {
     "name": "stdout",
     "output_type": "stream",
     "text": [
      "1\n",
      "3\n",
      "5\n",
      "7\n",
      "9\n",
      "11\n",
      "13\n",
      "15\n",
      "17\n",
      "19\n",
      "21\n",
      "23\n",
      "25\n",
      "27\n",
      "29\n",
      "31\n",
      "33\n",
      "35\n",
      "37\n",
      "39\n",
      "41\n",
      "43\n",
      "45\n",
      "47\n",
      "49\n"
     ]
    }
   ],
   "source": [
    "for i in range(1,51,2):\n",
    "    print(i)"
   ]
  },
  {
   "cell_type": "code",
   "execution_count": 14,
   "id": "cbf5d818",
   "metadata": {},
   "outputs": [
    {
     "name": "stdout",
     "output_type": "stream",
     "text": [
      "odd 1\n",
      "even= 2\n",
      "odd 3\n",
      "even= 4\n",
      "odd 5\n",
      "even= 6\n",
      "odd 7\n",
      "even= 8\n",
      "odd 9\n",
      "even= 10\n",
      "odd 11\n",
      "even= 12\n",
      "odd 13\n",
      "even= 14\n",
      "odd 15\n",
      "even= 16\n",
      "odd 17\n",
      "even= 18\n",
      "odd 19\n",
      "even= 20\n",
      "odd 21\n",
      "even= 22\n",
      "odd 23\n",
      "even= 24\n",
      "odd 25\n",
      "even= 26\n",
      "odd 27\n",
      "even= 28\n",
      "odd 29\n",
      "even= 30\n",
      "odd 31\n",
      "even= 32\n",
      "odd 33\n",
      "even= 34\n",
      "odd 35\n",
      "even= 36\n",
      "odd 37\n",
      "even= 38\n",
      "odd 39\n",
      "even= 40\n",
      "odd 41\n",
      "even= 42\n",
      "odd 43\n",
      "even= 44\n",
      "odd 45\n",
      "even= 46\n",
      "odd 47\n",
      "even= 48\n",
      "odd 49\n",
      "even= 50\n",
      "odd 51\n",
      "even= 52\n",
      "odd 53\n",
      "even= 54\n",
      "odd 55\n",
      "even= 56\n",
      "odd 57\n",
      "even= 58\n",
      "odd 59\n",
      "even= 60\n",
      "odd 61\n",
      "even= 62\n",
      "odd 63\n",
      "even= 64\n",
      "odd 65\n",
      "even= 66\n",
      "odd 67\n",
      "even= 68\n",
      "odd 69\n",
      "even= 70\n",
      "odd 71\n",
      "even= 72\n",
      "odd 73\n",
      "even= 74\n",
      "odd 75\n",
      "even= 76\n",
      "odd 77\n",
      "even= 78\n",
      "odd 79\n",
      "even= 80\n",
      "odd 81\n",
      "even= 82\n",
      "odd 83\n",
      "even= 84\n",
      "odd 85\n",
      "even= 86\n",
      "odd 87\n",
      "even= 88\n",
      "odd 89\n",
      "even= 90\n",
      "odd 91\n",
      "even= 92\n",
      "odd 93\n",
      "even= 94\n",
      "odd 95\n",
      "even= 96\n",
      "odd 97\n",
      "even= 98\n",
      "odd 99\n"
     ]
    }
   ],
   "source": [
    "for i in range(1,100):\n",
    "    if(i%2)==0:\n",
    "        print(\"even=\",i)\n",
    "    else:\n",
    "        print(\"odd\",i)"
   ]
  },
  {
   "cell_type": "code",
   "execution_count": 15,
   "id": "a0132984",
   "metadata": {},
   "outputs": [
    {
     "name": "stdout",
     "output_type": "stream",
     "text": [
      "-10\n",
      "-9\n",
      "-8\n",
      "-7\n",
      "-6\n",
      "-5\n",
      "-4\n",
      "-3\n",
      "-2\n",
      "-1\n",
      "0\n",
      "1\n",
      "2\n",
      "3\n",
      "4\n",
      "5\n",
      "6\n",
      "7\n",
      "8\n",
      "9\n"
     ]
    }
   ],
   "source": [
    "for i in range(-10,10):\n",
    "    print(i)"
   ]
  },
  {
   "cell_type": "code",
   "execution_count": 21,
   "id": "e013d22b",
   "metadata": {},
   "outputs": [
    {
     "name": "stdout",
     "output_type": "stream",
     "text": [
      "10\n",
      "9\n",
      "8\n",
      "7\n",
      "6\n",
      "5\n",
      "4\n",
      "3\n",
      "2\n",
      "1\n",
      "0\n",
      "-1\n",
      "-2\n",
      "-3\n",
      "-4\n",
      "-5\n",
      "-6\n",
      "-7\n",
      "-8\n",
      "-9\n",
      "-10\n"
     ]
    }
   ],
   "source": [
    "for i in range(10,-11,-1):\n",
    "    print(i)"
   ]
  },
  {
   "cell_type": "code",
   "execution_count": 23,
   "id": "511e6880",
   "metadata": {},
   "outputs": [
    {
     "name": "stdout",
     "output_type": "stream",
     "text": [
      "0\n",
      "1\n",
      "2\n",
      "3\n",
      "4\n",
      "5\n",
      "6\n",
      "7\n",
      "8\n",
      "9\n",
      "10\n"
     ]
    }
   ],
   "source": [
    "i=0\n",
    "while(i<=10):\n",
    "    print(i)\n",
    "    i=i+1"
   ]
  },
  {
   "cell_type": "code",
   "execution_count": 24,
   "id": "c51061ea",
   "metadata": {
    "scrolled": true
   },
   "outputs": [
    {
     "name": "stdout",
     "output_type": "stream",
     "text": [
      "even= 0\n",
      "odd= 1\n",
      "even= 2\n",
      "odd= 3\n",
      "even= 4\n",
      "odd= 5\n",
      "even= 6\n",
      "odd= 7\n",
      "even= 8\n",
      "odd= 9\n",
      "even= 10\n",
      "odd= 11\n",
      "even= 12\n",
      "odd= 13\n",
      "even= 14\n",
      "odd= 15\n",
      "even= 16\n",
      "odd= 17\n",
      "even= 18\n",
      "odd= 19\n",
      "even= 20\n",
      "odd= 21\n",
      "even= 22\n",
      "odd= 23\n",
      "even= 24\n",
      "odd= 25\n",
      "even= 26\n",
      "odd= 27\n",
      "even= 28\n",
      "odd= 29\n",
      "even= 30\n",
      "odd= 31\n",
      "even= 32\n",
      "odd= 33\n",
      "even= 34\n",
      "odd= 35\n",
      "even= 36\n",
      "odd= 37\n",
      "even= 38\n",
      "odd= 39\n",
      "even= 40\n",
      "odd= 41\n",
      "even= 42\n",
      "odd= 43\n",
      "even= 44\n",
      "odd= 45\n",
      "even= 46\n",
      "odd= 47\n",
      "even= 48\n",
      "odd= 49\n",
      "even= 50\n"
     ]
    }
   ],
   "source": [
    "i=0\n",
    "while(i<=50):\n",
    "    if(i%2)==0:\n",
    "        print(\"even=\",i)\n",
    "    else:\n",
    "        print(\"odd=\",i)\n",
    "    i=i+1    "
   ]
  },
  {
   "cell_type": "code",
   "execution_count": 3,
   "id": "a5199417",
   "metadata": {},
   "outputs": [
    {
     "name": "stdout",
     "output_type": "stream",
     "text": [
      "[2, 3]\n"
     ]
    }
   ],
   "source": [
    "a=[1,2,3,4,5,6]\n",
    "print(a[1:3])\n"
   ]
  },
  {
   "cell_type": "code",
   "execution_count": 11,
   "id": "60bce828",
   "metadata": {},
   "outputs": [
    {
     "name": "stdout",
     "output_type": "stream",
     "text": [
      "['true', 45.67, 34.8, 'kuch bhi']\n"
     ]
    }
   ],
   "source": [
    "x=[45,56,78,'hello bahi','kuch bhi',34.8,45.67,'true']\n",
    "print(x[7:3:-1])"
   ]
  },
  {
   "cell_type": "code",
   "execution_count": 16,
   "id": "32f83603",
   "metadata": {},
   "outputs": [],
   "source": [
    "x[2:5]=[1,2,3]"
   ]
  },
  {
   "cell_type": "code",
   "execution_count": 17,
   "id": "856e9370",
   "metadata": {},
   "outputs": [
    {
     "data": {
      "text/plain": [
       "[45, 56, 1, 2, 3, 34.8, 45.67, 'true']"
      ]
     },
     "execution_count": 17,
     "metadata": {},
     "output_type": "execute_result"
    }
   ],
   "source": [
    "x"
   ]
  },
  {
   "cell_type": "code",
   "execution_count": 18,
   "id": "3069fd02",
   "metadata": {},
   "outputs": [
    {
     "name": "stdout",
     "output_type": "stream",
     "text": [
      "[]\n"
     ]
    }
   ],
   "source": [
    "a=[]\n",
    "print(a)"
   ]
  },
  {
   "cell_type": "code",
   "execution_count": 1,
   "id": "e02bad14",
   "metadata": {},
   "outputs": [],
   "source": [
    "a=[1,2,3,4,5]\n",
    "a.sort(reverse=True)"
   ]
  },
  {
   "cell_type": "code",
   "execution_count": 23,
   "id": "3cdf2669",
   "metadata": {},
   "outputs": [
    {
     "data": {
      "text/plain": [
       "[5, 4, 3, 2, 1]"
      ]
     },
     "execution_count": 23,
     "metadata": {},
     "output_type": "execute_result"
    }
   ],
   "source": [
    "a"
   ]
  },
  {
   "cell_type": "code",
   "execution_count": 27,
   "id": "91e6ca46",
   "metadata": {},
   "outputs": [
    {
     "name": "stdout",
     "output_type": "stream",
     "text": [
      "5\n"
     ]
    }
   ],
   "source": [
    "x=0\n",
    "for i in a:\n",
    "    if(x<i):\n",
    "        x=i\n",
    "print(x)        "
   ]
  },
  {
   "cell_type": "code",
   "execution_count": 30,
   "id": "852c7a34",
   "metadata": {},
   "outputs": [
    {
     "name": "stdout",
     "output_type": "stream",
     "text": [
      "99\n"
     ]
    }
   ],
   "source": [
    "x = [78,89,34,23,12,99,56]\n",
    "y=0\n",
    "for i in x:\n",
    "    if(y<i):\n",
    "        y=i\n",
    "print(y)"
   ]
  },
  {
   "cell_type": "code",
   "execution_count": 15,
   "id": "3b82d449",
   "metadata": {},
   "outputs": [
    {
     "data": {
      "text/plain": [
       "2"
      ]
     },
     "execution_count": 15,
     "metadata": {},
     "output_type": "execute_result"
    }
   ],
   "source": [
    "t=(12,12,[[34],45],13)\n",
    "t.count(12)\n"
   ]
  },
  {
   "cell_type": "code",
   "execution_count": 5,
   "id": "cb860c76",
   "metadata": {},
   "outputs": [
    {
     "data": {
      "text/plain": [
       "2"
      ]
     },
     "execution_count": 5,
     "metadata": {},
     "output_type": "execute_result"
    }
   ],
   "source": [
    "t.index(13)"
   ]
  },
  {
   "cell_type": "code",
   "execution_count": 16,
   "id": "c41612ab",
   "metadata": {},
   "outputs": [
    {
     "data": {
      "text/plain": [
       "34"
      ]
     },
     "execution_count": 16,
     "metadata": {},
     "output_type": "execute_result"
    }
   ],
   "source": [
    "t[2][0][0]"
   ]
  },
  {
   "cell_type": "code",
   "execution_count": 20,
   "id": "d9e696cd",
   "metadata": {},
   "outputs": [
    {
     "name": "stdout",
     "output_type": "stream",
     "text": [
      "1\n"
     ]
    },
    {
     "data": {
      "text/plain": [
       "int"
      ]
     },
     "execution_count": 20,
     "metadata": {},
     "output_type": "execute_result"
    }
   ],
   "source": [
    "w=(1)\n",
    "print(w)\n",
    "type(w)"
   ]
  },
  {
   "cell_type": "code",
   "execution_count": 21,
   "id": "f965809f",
   "metadata": {},
   "outputs": [
    {
     "name": "stdout",
     "output_type": "stream",
     "text": [
      "()\n"
     ]
    },
    {
     "data": {
      "text/plain": [
       "tuple"
      ]
     },
     "execution_count": 21,
     "metadata": {},
     "output_type": "execute_result"
    }
   ],
   "source": [
    "q=()\n",
    "print(q)\n",
    "type(q)"
   ]
  },
  {
   "cell_type": "code",
   "execution_count": 22,
   "id": "9546d328",
   "metadata": {},
   "outputs": [
    {
     "name": "stdout",
     "output_type": "stream",
     "text": [
      "(1, 2, 3, 4)\n"
     ]
    }
   ],
   "source": [
    "#1\n",
    "t=(1,2,3,4,)\n",
    "print(t)"
   ]
  },
  {
   "cell_type": "code",
   "execution_count": 23,
   "id": "2b038785",
   "metadata": {},
   "outputs": [
    {
     "name": "stdout",
     "output_type": "stream",
     "text": [
      "('hello', 10, 20, 1.2)\n"
     ]
    }
   ],
   "source": [
    "#2\n",
    "q=(\"hello\",10,20,1.2)\n",
    "print(q)"
   ]
  },
  {
   "cell_type": "code",
   "execution_count": 2,
   "id": "eb15c654",
   "metadata": {},
   "outputs": [
    {
     "name": "stdout",
     "output_type": "stream",
     "text": [
      "20\n"
     ]
    }
   ],
   "source": [
    "#3\n",
    "w=(10,20,30,40)\n",
    "print(w[1])"
   ]
  },
  {
   "cell_type": "code",
   "execution_count": 6,
   "id": "51f04919",
   "metadata": {},
   "outputs": [
    {
     "name": "stdout",
     "output_type": "stream",
     "text": [
      "(10, 20, 30, 40)\n"
     ]
    }
   ],
   "source": [
    "#4\n",
    "z=(10,20,30)\n",
    "z=z+(40,)\n",
    "print(z)\n"
   ]
  },
  {
   "cell_type": "code",
   "execution_count": 4,
   "id": "4785c2ec",
   "metadata": {},
   "outputs": [
    {
     "name": "stdout",
     "output_type": "stream",
     "text": [
      "[10, 20, 30, 40]\n"
     ]
    },
    {
     "data": {
      "text/plain": [
       "str"
      ]
     },
     "execution_count": 4,
     "metadata": {},
     "output_type": "execute_result"
    }
   ],
   "source": [
    "#5\n",
    "z=[10,20,30]\n",
    "x=str(x)\n",
    "print(x)\n",
    "type(x)\n",
    "\n"
   ]
  },
  {
   "cell_type": "code",
   "execution_count": 2,
   "id": "2d1eaef6",
   "metadata": {},
   "outputs": [
    {
     "name": "stdout",
     "output_type": "stream",
     "text": [
      "(10, 20, 30, 40)\n"
     ]
    }
   ],
   "source": [
    "#6\n",
    "x=[10,20,30,40]\n",
    "y=tuple(x)\n",
    "print(y)\n"
   ]
  },
  {
   "cell_type": "code",
   "execution_count": 8,
   "id": "6b6d4705",
   "metadata": {},
   "outputs": [
    {
     "name": "stdout",
     "output_type": "stream",
     "text": [
      "(10, 20, 30)\n"
     ]
    },
    {
     "data": {
      "text/plain": [
       "tuple"
      ]
     },
     "execution_count": 8,
     "metadata": {},
     "output_type": "execute_result"
    }
   ],
   "source": [
    "#7\n",
    "x=(10,20,30,40)\n",
    "y=list(x)\n",
    "y.remove(40)\n",
    "tup=tuple(y)\n",
    "print(tup)\n",
    "type(tup)        \n",
    "        \n",
    "        \n",
    "        "
   ]
  },
  {
   "cell_type": "code",
   "execution_count": 9,
   "id": "e8ff04f0",
   "metadata": {},
   "outputs": [
    {
     "name": "stdout",
     "output_type": "stream",
     "text": [
      "2\n"
     ]
    }
   ],
   "source": [
    "#8\n",
    "z=(12,13,14,15)\n",
    "index=z.index(14)\n",
    "print(index)"
   ]
  },
  {
   "cell_type": "code",
   "execution_count": 4,
   "id": "a8475ea2",
   "metadata": {},
   "outputs": [
    {
     "name": "stdout",
     "output_type": "stream",
     "text": [
      "(4, 3, 2, 1)\n"
     ]
    }
   ],
   "source": [
    "#9\n",
    "x=(1,2,3,4)\n",
    "y=list(x)\n",
    "list1=y[::-1]\n",
    "tup=tuple(list1)\n",
    "print(tup)\n"
   ]
  },
  {
   "cell_type": "code",
   "execution_count": 23,
   "id": "1646f7ac",
   "metadata": {},
   "outputs": [
    {
     "name": "stdout",
     "output_type": "stream",
     "text": [
      "(5, 4, 3, 2, 1)\n"
     ]
    },
    {
     "data": {
      "text/plain": [
       "tuple"
      ]
     },
     "execution_count": 23,
     "metadata": {},
     "output_type": "execute_result"
    }
   ],
   "source": [
    "x=(1,2,3,4,5)\n",
    "r=reversed(x)\n",
    "r=tuple(r)\n",
    "print(r)\n",
    "type(r)\n"
   ]
  },
  {
   "cell_type": "code",
   "execution_count": 3,
   "id": "4c6dcae0",
   "metadata": {},
   "outputs": [
    {
     "name": "stdout",
     "output_type": "stream",
     "text": [
      "product= -864\n"
     ]
    }
   ],
   "source": [
    "#10\n",
    "num=(4,3,2,2,-1,18)\n",
    "pro=1\n",
    "\n",
    "temp=list(num)\n",
    "for i in temp:\n",
    "    pro=pro*i\n",
    "print(\"product=\",pro)    "
   ]
  },
  {
   "cell_type": "code",
   "execution_count": 2,
   "id": "f2200069",
   "metadata": {},
   "outputs": [
    {
     "name": "stdout",
     "output_type": "stream",
     "text": [
      "[5, 6, 7, 8, 9, 1, 2, 3, 4]\n"
     ]
    }
   ],
   "source": [
    "#11\n",
    "r=(1,2,3,4)\n",
    "t=[5,6,7,8,9]\n",
    "w=list(r)\n",
    "for i in w:\n",
    "    t.append(i)\n",
    "print(t)"
   ]
  },
  {
   "cell_type": "code",
   "execution_count": 4,
   "id": "7de37d82",
   "metadata": {},
   "outputs": [
    {
     "name": "stdout",
     "output_type": "stream",
     "text": [
      "enter the value of k=2\n",
      "12\n",
      "4\n",
      "26\n"
     ]
    }
   ],
   "source": [
    "#12\n",
    "k=int(input(\"enter the value of k=\"))\n",
    "a=(12,13,1,4,25,26)\n",
    "v=list(a)\n",
    "for i in v:\n",
    "    if (i%k)==0:\n",
    "        print(i)"
   ]
  },
  {
   "cell_type": "code",
   "execution_count": 5,
   "id": "1697b72a",
   "metadata": {},
   "outputs": [
    {
     "ename": "IndexError",
     "evalue": "list index out of range",
     "output_type": "error",
     "traceback": [
      "\u001b[1;31m---------------------------------------------------------------------------\u001b[0m",
      "\u001b[1;31mIndexError\u001b[0m                                Traceback (most recent call last)",
      "Input \u001b[1;32mIn [5]\u001b[0m, in \u001b[0;36m<cell line: 4>\u001b[1;34m()\u001b[0m\n\u001b[0;32m      5\u001b[0m     \u001b[38;5;28;01mfor\u001b[39;00m j \u001b[38;5;129;01min\u001b[39;00m t:\n\u001b[0;32m      6\u001b[0m         \u001b[38;5;28;01mif\u001b[39;00m i\u001b[38;5;241m==\u001b[39mj:\n\u001b[1;32m----> 7\u001b[0m             t\u001b[38;5;241m.\u001b[39mremove(\u001b[43mt\u001b[49m\u001b[43m[\u001b[49m\u001b[43mj\u001b[49m\u001b[43m]\u001b[49m)\n\u001b[0;32m      8\u001b[0m \u001b[38;5;28mprint\u001b[39m(t)\n",
      "\u001b[1;31mIndexError\u001b[0m: list index out of range"
     ]
    }
   ],
   "source": [
    "x=(12,13,14,15,12)\n",
    "t=list(x)\n",
    "n=0\n",
    "for i in t:\n",
    "    for j in t:\n",
    "        if i==j:\n",
    "            t.remove(t[j])\n",
    "print(t)            \n",
    "        "
   ]
  },
  {
   "cell_type": "code",
   "execution_count": 7,
   "id": "2441d2d6",
   "metadata": {},
   "outputs": [
    {
     "name": "stdout",
     "output_type": "stream",
     "text": [
      "enter the number:3\n",
      "enter the number of list1\n",
      "enter the number of list2\n",
      "enter the number of list3\n",
      "[1, 2, 3]\n"
     ]
    }
   ],
   "source": [
    "x=int(input(\"enter the number:\"))\n",
    "y=[]\n",
    "for i in range(x):\n",
    "    b=int(input(\"enter the number of list\"))\n",
    "    y.append(b)\n",
    "print(y)    "
   ]
  },
  {
   "cell_type": "code",
   "execution_count": null,
   "id": "307770f1",
   "metadata": {},
   "outputs": [],
   "source": []
  }
 ],
 "metadata": {
  "kernelspec": {
   "display_name": "Python 3 (ipykernel)",
   "language": "python",
   "name": "python3"
  },
  "language_info": {
   "codemirror_mode": {
    "name": "ipython",
    "version": 3
   },
   "file_extension": ".py",
   "mimetype": "text/x-python",
   "name": "python",
   "nbconvert_exporter": "python",
   "pygments_lexer": "ipython3",
   "version": "3.9.12"
  }
 },
 "nbformat": 4,
 "nbformat_minor": 5
}
