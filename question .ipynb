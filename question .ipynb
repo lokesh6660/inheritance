{
 "cells": [
  {
   "cell_type": "markdown",
   "id": "33692608",
   "metadata": {},
   "source": [
    "# "
   ]
  },
  {
   "cell_type": "code",
   "execution_count": 4,
   "id": "1005fd6e",
   "metadata": {},
   "outputs": [
    {
     "name": "stdout",
     "output_type": "stream",
     "text": [
      "[1, 2000.0, 4, 15, 6, 7]\n"
     ]
    }
   ],
   "source": [
    "#1 .Difference Between append and insert in python\n",
    "a=[1,2e3,4]\n",
    "b=[15,6,7]\n",
    "for i in b:\n",
    "    a.append(i)\n",
    "print(a)\n"
   ]
  },
  {
   "cell_type": "code",
   "execution_count": 7,
   "id": "5835c7c4",
   "metadata": {},
   "outputs": [
    {
     "name": "stdout",
     "output_type": "stream",
     "text": [
      "[1, 2, 3, 4, 5]\n"
     ]
    }
   ],
   "source": [
    "a=[1,2,3,4]\n",
    "a.insert(4,5)\n",
    "print(a)"
   ]
  },
  {
   "cell_type": "code",
   "execution_count": 9,
   "id": "45b8ab52",
   "metadata": {},
   "outputs": [
    {
     "name": "stdout",
     "output_type": "stream",
     "text": [
      "[1, 2, 3]\n"
     ]
    }
   ],
   "source": [
    "#2.Differentiate remove, del, and pop in python\n",
    "c=[1,2,3,4]\n",
    "c.remove(4)\n",
    "print(c)"
   ]
  },
  {
   "cell_type": "code",
   "execution_count": 11,
   "id": "20ef5acb",
   "metadata": {},
   "outputs": [
    {
     "data": {
      "text/plain": [
       "2"
      ]
     },
     "execution_count": 11,
     "metadata": {},
     "output_type": "execute_result"
    }
   ],
   "source": [
    "c.pop(1)"
   ]
  },
  {
   "cell_type": "code",
   "execution_count": 12,
   "id": "1455ce3f",
   "metadata": {},
   "outputs": [
    {
     "name": "stdout",
     "output_type": "stream",
     "text": [
      "1\n",
      "2\n",
      "3\n",
      "4\n",
      "5\n",
      "6\n",
      "7\n",
      "8\n",
      "9\n"
     ]
    }
   ],
   "source": [
    "#3.explain the range function in python \n",
    "#range funcion in python\n",
    "for i in range(1,10):\n",
    "    print(i)"
   ]
  },
  {
   "cell_type": "code",
   "execution_count": 13,
   "id": "dfddea79",
   "metadata": {},
   "outputs": [
    {
     "name": "stdout",
     "output_type": "stream",
     "text": [
      "10\n"
     ]
    }
   ],
   "source": [
    "#4 .\n",
    "#when we want to assign we use(=)as\n",
    "a=10\n",
    "b=a\n",
    "print(b)\n"
   ]
  },
  {
   "cell_type": "code",
   "execution_count": 15,
   "id": "df2698c8",
   "metadata": {},
   "outputs": [
    {
     "name": "stdout",
     "output_type": "stream",
     "text": [
      "same\n"
     ]
    }
   ],
   "source": [
    "#when we want to compare we use(==)as\n",
    "a=10\n",
    "b=10\n",
    "if(a==b):\n",
    "    print(\"same\")\n",
    "          "
   ]
  },
  {
   "cell_type": "code",
   "execution_count": 23,
   "id": "8ef04018",
   "metadata": {},
   "outputs": [
    {
     "name": "stdout",
     "output_type": "stream",
     "text": [
      "['d', 'c', 'b', 'a']\n"
     ]
    }
   ],
   "source": [
    "#5.show to reverse a string in python using indexing.Explain with explain\n",
    "s=\"abcd\"\n",
    "w=[]\n",
    "for i in s:\n",
    "    w.append(i)\n",
    "    w.sort(reverse=True)\n",
    "print(w)\n",
    "    "
   ]
  },
  {
   "cell_type": "code",
   "execution_count": 4,
   "id": "8e422846",
   "metadata": {},
   "outputs": [
    {
     "name": "stdout",
     "output_type": "stream",
     "text": [
      "it is not prime numer: 10\n",
      "it is a prime number 11\n",
      "it is not prime numer: 12\n",
      "it is a prime number 13\n",
      "it is not prime numer: 14\n",
      "it is not prime numer: 15\n",
      "it is not prime numer: 16\n",
      "it is a prime number 17\n",
      "it is not prime numer: 18\n",
      "it is a prime number 19\n",
      "it is not prime numer: 20\n",
      "it is not prime numer: 21\n",
      "it is not prime numer: 22\n",
      "it is a prime number 23\n",
      "it is not prime numer: 24\n",
      "it is not prime numer: 25\n",
      "it is not prime numer: 26\n",
      "it is not prime numer: 27\n",
      "it is not prime numer: 28\n",
      "it is a prime number 29\n",
      "it is not prime numer: 30\n",
      "it is a prime number 31\n",
      "it is not prime numer: 32\n",
      "it is not prime numer: 33\n",
      "it is not prime numer: 34\n",
      "it is not prime numer: 35\n",
      "it is not prime numer: 36\n",
      "it is a prime number 37\n",
      "it is not prime numer: 38\n",
      "it is not prime numer: 39\n",
      "it is not prime numer: 40\n",
      "it is a prime number 41\n",
      "it is not prime numer: 42\n",
      "it is a prime number 43\n",
      "it is not prime numer: 44\n",
      "it is not prime numer: 45\n",
      "it is not prime numer: 46\n",
      "it is a prime number 47\n",
      "it is not prime numer: 48\n",
      "it is not prime numer: 49\n",
      "it is not prime numer: 50\n"
     ]
    }
   ],
   "source": [
    "#6.write a program to print all prime number frome 10-50\n",
    "for i in range(10,51):\n",
    "    for j in range(2,i):\n",
    "        if(i%j)==0:\n",
    "            print(\"it is not prime numer:\",i)\n",
    "            break\n",
    "    else:\n",
    "        print(\"it is a prime number\",i)"
   ]
  },
  {
   "cell_type": "code",
   "execution_count": 27,
   "id": "3d8a2958",
   "metadata": {},
   "outputs": [
    {
     "name": "stdout",
     "output_type": "stream",
     "text": [
      "5050\n"
     ]
    }
   ],
   "source": [
    "#7.how to print sum of the number starting frome 1 to 100\n",
    "sum=0\n",
    "for i in range(1,101):\n",
    "    sum=sum+i\n",
    "print(sum)    "
   ]
  },
  {
   "cell_type": "code",
   "execution_count": 28,
   "id": "736f587a",
   "metadata": {},
   "outputs": [
    {
     "name": "stdout",
     "output_type": "stream",
     "text": [
      "[2, 6, 4]\n"
     ]
    }
   ],
   "source": [
    "#8.what is the output, Suppose list1 is[1,3,2],what is list1*2\n",
    "list1=[1,3,2]\n",
    "list2=[]\n",
    "for i in list1:\n",
    "    i=i*2\n",
    "    list2.append(i)\n",
    "print(list2)    "
   ]
  },
  {
   "cell_type": "code",
   "execution_count": 30,
   "id": "b259c018",
   "metadata": {},
   "outputs": [
    {
     "name": "stdout",
     "output_type": "stream",
     "text": [
      "25.0\n"
     ]
    }
   ],
   "source": [
    "#9.can you write a program to find the averageof number in a list in python?\n",
    "avg=0\n",
    "count=0\n",
    "a=[10,20,30,40]\n",
    "for i in a:\n",
    "    avg=avg+i\n",
    "    count=count+1\n",
    "avg=avg/count\n",
    "print(avg)"
   ]
  },
  {
   "cell_type": "code",
   "execution_count": 33,
   "id": "c78a3be9",
   "metadata": {},
   "outputs": [
    {
     "name": "stdout",
     "output_type": "stream",
     "text": [
      "enter the number:12\n",
      "it is positive\n"
     ]
    }
   ],
   "source": [
    "#10.WAPto check a number is positive,negative or zero\n",
    "n=int(input(\"enter the number:\"))\n",
    "if(n>0):\n",
    "    print(\"it is positive\")\n",
    "elif(n==0):\n",
    "    print(\"it is zero\")\n",
    "else:\n",
    "    print(\"itb is negitive\")"
   ]
  },
  {
   "cell_type": "code",
   "execution_count": 34,
   "id": "7a5eea83",
   "metadata": {},
   "outputs": [
    {
     "name": "stdout",
     "output_type": "stream",
     "text": [
      "enter the number:12\n",
      "it is not divisible by 5 and 11\n"
     ]
    }
   ],
   "source": [
    "#11. WAP to check a number is divisible by 5 and 11 or not\n",
    "n=int(input(\"enter the number:\"))\n",
    "if(n%5)==0:\n",
    "    print(\"it is divisible by 5\")\n",
    "elif(n%11)==0:\n",
    "    print(\"itis divisible by 11\")\n",
    "else:\n",
    "    print(\"it is not divisible by 5 and 11\")"
   ]
  },
  {
   "cell_type": "code",
   "execution_count": 35,
   "id": "b31468ee",
   "metadata": {},
   "outputs": [
    {
     "name": "stdout",
     "output_type": "stream",
     "text": [
      "enter the cost of product:100\n",
      "enter the selling  cost of product:200\n",
      "it is profit\n"
     ]
    }
   ],
   "source": [
    "#12WAPto calculate profit&loss\n",
    "n=int(input(\"enter the cost of product:\"))\n",
    "m=int(input(\"enter the selling  cost of product:\"))\n",
    "if(n-m)>0:\n",
    "    print(\"it is loss\")\n",
    "else:\n",
    "    print(\"it is profit\")\n"
   ]
  },
  {
   "cell_type": "code",
   "execution_count": 10,
   "id": "dbd9d297",
   "metadata": {},
   "outputs": [
    {
     "name": "stdout",
     "output_type": "stream",
     "text": [
      "enter the salary of employee:20000\n",
      "salary: 31500\n"
     ]
    }
   ],
   "source": [
    "#13.WAP to input the basic salary of employee & calculate its gross salary \n",
    "#basic Salary <=10000:HRA=20%,DA=80%,\n",
    "#Basic Salary<=20000:HRA=25%,DA=90%\n",
    "#Basic Saklary>20000:HRA=30%,DA=95%\n",
    "sal=int(input(\"enter the salary of employee:\"))\n",
    "if(sal<=10000):\n",
    "    sal=sal+(20*100)+(80*100)\n",
    "    print(\"salary:\",sal)\n",
    "elif(sal<=20000):\n",
    "    sal=sal+(25*100)+(90*100)\n",
    "    print(\"salary:\",sal)\n",
    "elif(sal>20000):\n",
    "    sal=sal+(30*100)+(95*100)\n",
    "    print(\"salary:\",sal)       "
   ]
  },
  {
   "cell_type": "code",
   "execution_count": 2,
   "id": "017d5e01",
   "metadata": {},
   "outputs": [
    {
     "name": "stdout",
     "output_type": "stream",
     "text": [
      "enter the unit:150\n",
      "total cost: 75.0\n"
     ]
    }
   ],
   "source": [
    "#14. input the electricity unit charge&calculate the total electric bill accoding to gib=ven condition.\n",
    "#for first 50 units Rs.0.50/unit\n",
    "#For next 100 units Rs. 0.75/unit\n",
    "#For next 100 units Rs. 1.20/unit\n",
    "#For unit above 250 Rs. 1.50/unit\n",
    "\n",
    "cost=0\n",
    "n=int(input(\"enter the unit:\"))\n",
    "if(n>=50):\n",
    "    cost=50*0.50\n",
    "    n=n-50\n",
    "    if(n>=100):\n",
    "        cost=100*0.75\n",
    "        n=n-100\n",
    "        if(n>=100):\n",
    "            cost=100*1.20\n",
    "            n=n-100\n",
    "            if(n!=0):\n",
    "                cost=n*1.50\n",
    "            \n",
    "print(\"total cost:\",cost)                "
   ]
  },
  {
   "cell_type": "code",
   "execution_count": null,
   "id": "9f625776",
   "metadata": {},
   "outputs": [],
   "source": [
    "#15.WAP to swap 2 number without using 3rd variable in python.\n",
    "a=10\n",
    "b=20\n",
    "a=a+b\n",
    "b=a-b\n",
    "a=a-b\n",
    "print(\"a=\",a)\n",
    "print(\"b=\",b)"
   ]
  },
  {
   "cell_type": "code",
   "execution_count": 6,
   "id": "54898296",
   "metadata": {},
   "outputs": [
    {
     "name": "stdout",
     "output_type": "stream",
     "text": [
      "enter the year:2000\n",
      "it is a leap year\n"
     ]
    }
   ],
   "source": [
    "#16WAP and check the leap year or not.\n",
    "n=int(input(\"enter the year:\"))\n",
    "if(n%4)==0:\n",
    "    print(\"it is a leap year\")\n",
    "else:\n",
    "    print(\"it is not a leap year\")\n",
    "    "
   ]
  },
  {
   "cell_type": "code",
   "execution_count": 29,
   "id": "10bdffbe",
   "metadata": {},
   "outputs": [
    {
     "name": "stdout",
     "output_type": "stream",
     "text": [
      "enter the number:12\n"
     ]
    },
    {
     "ename": "TypeError",
     "evalue": "not all arguments converted during string formatting",
     "output_type": "error",
     "traceback": [
      "\u001b[1;31m---------------------------------------------------------------------------\u001b[0m",
      "\u001b[1;31mTypeError\u001b[0m                                 Traceback (most recent call last)",
      "Input \u001b[1;32mIn [29]\u001b[0m, in \u001b[0;36m<cell line: 4>\u001b[1;34m()\u001b[0m\n\u001b[0;32m      3\u001b[0m m\u001b[38;5;241m=\u001b[39m\u001b[38;5;241m0\u001b[39m\n\u001b[0;32m      4\u001b[0m \u001b[38;5;28;01mwhile\u001b[39;00m n\u001b[38;5;241m!=\u001b[39m\u001b[38;5;241m0\u001b[39m:\n\u001b[1;32m----> 5\u001b[0m     digit\u001b[38;5;241m=\u001b[39m\u001b[38;5;28mstr\u001b[39m(\u001b[43mn\u001b[49m\u001b[38;5;241;43m%\u001b[39;49m\u001b[38;5;241;43m10\u001b[39;49m)\n\u001b[0;32m      6\u001b[0m     m\u001b[38;5;241m=\u001b[39mm\u001b[38;5;241m*\u001b[39m\u001b[38;5;241m10\u001b[39m\u001b[38;5;241m+\u001b[39mdigit\n\u001b[0;32m      7\u001b[0m     n\u001b[38;5;241m/\u001b[39m\u001b[38;5;241m/\u001b[39m\u001b[38;5;241m=\u001b[39m\u001b[38;5;241m10\u001b[39m\n",
      "\u001b[1;31mTypeError\u001b[0m: not all arguments converted during string formatting"
     ]
    }
   ],
   "source": [
    "#17. write a program to reverse a number in python?\n",
    "n=str(input(\"enter the number:\"))\n",
    "m=0\n",
    "while n!=0:\n",
    "    digit=str(n%10)\n",
    "    m=m*10+digit\n",
    "    n//=10\n",
    "print(\"reverse number is:\",m)"
   ]
  },
  {
   "cell_type": "code",
   "execution_count": 18,
   "id": "501a936b",
   "metadata": {},
   "outputs": [
    {
     "name": "stdout",
     "output_type": "stream",
     "text": [
      "enter the number:12\n",
      "3\n"
     ]
    }
   ],
   "source": [
    "#18.write a program to find the sum of the digit of a number in python\n",
    "n=str(input(\"enter the number:\"))\n",
    "sum=0\n",
    "for i in n:\n",
    "    sum=sum+int(i)\n",
    "\n",
    "print(sum)    \n",
    "    \n",
    "    "
   ]
  },
  {
   "cell_type": "code",
   "execution_count": 25,
   "id": "ece3845e",
   "metadata": {},
   "outputs": [
    {
     "name": "stdout",
     "output_type": "stream",
     "text": [
      "[('basic', 8), ('c#', 1), ('go', 7), ('python', 60)]\n"
     ]
    }
   ],
   "source": [
    "#19. how to sort list of tuples.accoding to letter\n",
    "#lan_listtuple=[('c#',1),(\"go\",7),(\"basic\",8),(\"python\",60)]\n",
    "\n",
    "lan_listtuple=[('c#',1),(\"go\",7),(\"basic\",8),(\"python\",60)]\n",
    "lan_listtuple.sort(reverse=False)\n",
    "print(lan_listtuple)\n",
    "\n"
   ]
  },
  {
   "cell_type": "code",
   "execution_count": 11,
   "id": "a5c0d85b",
   "metadata": {},
   "outputs": [
    {
     "name": "stdout",
     "output_type": "stream",
     "text": [
      "enter principal:100\n",
      "enter rate of interst:25\n",
      "enter time span:2\n",
      "enter no of time interest got compounded annually:4\n",
      "simple intrest: 50.0\n",
      "compound intrest: 162.41700949613005\n"
     ]
    }
   ],
   "source": [
    "#20.WAP for simple & compound intrest in python\n",
    "p=int(input(\"enter principal:\"))\n",
    "r=int(input(\"enter rate of interst:\"))\n",
    "t=int(input(\"enter time span:\"))\n",
    "si=(p*r*t)/100\n",
    "n=int(input(\"enter no of time interest got compounded annually:\"))\n",
    "ci=p*pow(1+r/(100*n),n*t)\n",
    "print(\"simple intrest:\",si)\n",
    "print(\"compound intrest:\",ci)"
   ]
  },
  {
   "cell_type": "code",
   "execution_count": 17,
   "id": "67a302da",
   "metadata": {},
   "outputs": [
    {
     "name": "stdout",
     "output_type": "stream",
     "text": [
      "{'name': 'Dog', 'Weight': 4, 'Country': 'US', 'City': 'California'}\n"
     ]
    }
   ],
   "source": [
    "#21.WAP to delete set of keys in dic\n",
    "# kays to delete->['name','age']\n",
    "#animaldict = { “name”: “Dog”,“age”:5,“Weight”: 4,“Country”: “US”,“City”:”California”\n",
    "\n",
    "a={\"name\": \"Dog\",\"age\":5,\"Weight\": 4,\"Country\": \"US\",\"City\":\"California\"}\n",
    "a.pop(\"name\" and \"age\")\n",
    "a.pop(\"age\")\n",
    "print(a)"
   ]
  },
  {
   "cell_type": "code",
   "execution_count": null,
   "id": "9c38483b",
   "metadata": {},
   "outputs": [],
   "source": []
  }
 ],
 "metadata": {
  "kernelspec": {
   "display_name": "Python 3 (ipykernel)",
   "language": "python",
   "name": "python3"
  },
  "language_info": {
   "codemirror_mode": {
    "name": "ipython",
    "version": 3
   },
   "file_extension": ".py",
   "mimetype": "text/x-python",
   "name": "python",
   "nbconvert_exporter": "python",
   "pygments_lexer": "ipython3",
   "version": "3.9.12"
  }
 },
 "nbformat": 4,
 "nbformat_minor": 5
}
