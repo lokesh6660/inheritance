{
 "cells": [
  {
   "cell_type": "code",
   "execution_count": 1,
   "id": "fa4a7463",
   "metadata": {},
   "outputs": [],
   "source": [
    "#polymorphism \n",
    "#overloding\n"
   ]
  },
  {
   "cell_type": "code",
   "execution_count": 2,
   "id": "810ea047",
   "metadata": {},
   "outputs": [
    {
     "data": {
      "text/plain": [
       "5"
      ]
     },
     "execution_count": 2,
     "metadata": {},
     "output_type": "execute_result"
    }
   ],
   "source": [
    "a=2\n",
    "b=3\n",
    "c=a+b\n",
    "c"
   ]
  },
  {
   "cell_type": "code",
   "execution_count": 3,
   "id": "fc6ce857",
   "metadata": {},
   "outputs": [
    {
     "data": {
      "text/plain": [
       "'hello2'"
      ]
     },
     "execution_count": 3,
     "metadata": {},
     "output_type": "execute_result"
    }
   ],
   "source": [
    "a=\"hello\"\n",
    "b=\"2\"\n",
    "c=a+b\n",
    "c"
   ]
  },
  {
   "cell_type": "code",
   "execution_count": 14,
   "id": "dad8b0e0",
   "metadata": {},
   "outputs": [
    {
     "name": "stdout",
     "output_type": "stream",
     "text": [
      "enter the value:12\n",
      "enter the value:12\n",
      "24\n",
      "enter the value:13\n",
      "enter the value14\n",
      "1314\n"
     ]
    }
   ],
   "source": [
    "\n",
    "class x:\n",
    "    def __init__(self):\n",
    "        a=int(input(\"enter the value:\"))\n",
    "        b=int(input(\"enter the value:\"))\n",
    "        c=a+b\n",
    "        print(c)\n",
    "    def add2(self):\n",
    "        a=str(input(\"enter the value:\"))\n",
    "        b=str(input(\"enter the value\"))\n",
    "        c=a+b\n",
    "        print(c)\n",
    "y=x()    \n",
    "y.add2()\n"
   ]
  },
  {
   "cell_type": "code",
   "execution_count": 15,
   "id": "2b0b34b1",
   "metadata": {},
   "outputs": [
    {
     "data": {
      "text/plain": [
       "22"
      ]
     },
     "execution_count": 15,
     "metadata": {},
     "output_type": "execute_result"
    }
   ],
   "source": [
    "class add1:\n",
    "    def sum1(self,x=10,y=10):\n",
    "        result=int(x+y)\n",
    "        return result\n",
    "q=add1()\n",
    "q.sum1(12)"
   ]
  },
  {
   "cell_type": "code",
   "execution_count": null,
   "id": "25a4b432",
   "metadata": {},
   "outputs": [],
   "source": []
  }
 ],
 "metadata": {
  "kernelspec": {
   "display_name": "Python 3 (ipykernel)",
   "language": "python",
   "name": "python3"
  },
  "language_info": {
   "codemirror_mode": {
    "name": "ipython",
    "version": 3
   },
   "file_extension": ".py",
   "mimetype": "text/x-python",
   "name": "python",
   "nbconvert_exporter": "python",
   "pygments_lexer": "ipython3",
   "version": "3.9.12"
  }
 },
 "nbformat": 4,
 "nbformat_minor": 5
}
