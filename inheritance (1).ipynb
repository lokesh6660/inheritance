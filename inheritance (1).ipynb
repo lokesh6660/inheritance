{
 "cells": [
  {
   "cell_type": "code",
   "execution_count": 15,
   "id": "4138d3e0",
   "metadata": {},
   "outputs": [
    {
     "data": {
      "text/plain": [
       "2000"
      ]
     },
     "execution_count": 15,
     "metadata": {},
     "output_type": "execute_result"
    }
   ],
   "source": [
    "#program of inherit property of the parent class to child class\n",
    "class phone1:\n",
    "    def __init__(self,ver,model):\n",
    "        self.ver=ver\n",
    "        self.model=model\n",
    "    def company():\n",
    "        print(\"xyx\")\n",
    "class phone2(phone1):\n",
    "    def __init__(self,ver,model,cost):\n",
    "        super().__init__(ver,model)\n",
    "        self.model=model\n",
    "        self.cost=cost\n",
    "            \n",
    "x=phone2(1,13,2000)  \n",
    "x.cost"
   ]
  },
  {
   "cell_type": "markdown",
   "id": "fbe13adb",
   "metadata": {},
   "source": [
    "# multilevel inheritance"
   ]
  },
  {
   "cell_type": "code",
   "execution_count": 25,
   "id": "0f4d7afe",
   "metadata": {},
   "outputs": [],
   "source": [
    "#program of inherit property between 3 class\n",
    "#4 way to inherit as follow\n"
   ]
  },
  {
   "cell_type": "code",
   "execution_count": 19,
   "id": "968405b0",
   "metadata": {},
   "outputs": [
    {
     "data": {
      "text/plain": [
       "12"
      ]
     },
     "execution_count": 19,
     "metadata": {},
     "output_type": "execute_result"
    }
   ],
   "source": [
    "#1\n",
    "class gpc:\n",
    "    def __init__(self,name):\n",
    "        self.name=name\n",
    "    \n",
    "    \n",
    "    \n",
    "class pc(gpc):\n",
    "    def __init__(self,name,age):\n",
    "        super().__init__(name)\n",
    "        self.age=age\n",
    "        \n",
    "    \n",
    "    \n",
    "class cc:\n",
    "    def __init__(self,sal):\n",
    "        self.sal=sal\n",
    "x=pc(\"abc\",12) \n",
    "x.age"
   ]
  },
  {
   "cell_type": "code",
   "execution_count": 21,
   "id": "1dab364f",
   "metadata": {},
   "outputs": [
    {
     "data": {
      "text/plain": [
       "12"
      ]
     },
     "execution_count": 21,
     "metadata": {},
     "output_type": "execute_result"
    }
   ],
   "source": [
    "#2\n",
    "class gpc:\n",
    "    def __init__(self,name):\n",
    "        self.name=name\n",
    "    \n",
    "    \n",
    "    \n",
    "class pc(gpc):\n",
    "    def __init__(self,name,age):\n",
    "        super().__init__(name)\n",
    "        self.age=age\n",
    "        \n",
    "    \n",
    "    \n",
    "class cc(pc):\n",
    "    def __init__(self,sal,name,age):\n",
    "        super().__init__(name,age)\n",
    "        self.sal=sal\n",
    "x=cc(1200,\"abc\",12) \n",
    "x.age"
   ]
  },
  {
   "cell_type": "code",
   "execution_count": 1,
   "id": "a8a22937",
   "metadata": {},
   "outputs": [
    {
     "data": {
      "text/plain": [
       "23"
      ]
     },
     "execution_count": 1,
     "metadata": {},
     "output_type": "execute_result"
    }
   ],
   "source": [
    "#3\n",
    "class gpc:\n",
    "    def __init__(self,name):\n",
    "        self.name=name\n",
    "    \n",
    "    \n",
    "    \n",
    "class pc:\n",
    "    def __init__(self,age):\n",
    "        self.age=age\n",
    "            \n",
    "class cc(pc):\n",
    "    def __init__(self,sal,age):\n",
    "        super().__init__(age)\n",
    "        self.sal=sal\n",
    "x=cc(2000,23)       \n",
    "x.age"
   ]
  },
  {
   "cell_type": "code",
   "execution_count": 5,
   "id": "cbed77ac",
   "metadata": {},
   "outputs": [
    {
     "data": {
      "text/plain": [
       "20000"
      ]
     },
     "execution_count": 5,
     "metadata": {},
     "output_type": "execute_result"
    }
   ],
   "source": [
    "#4\n",
    "class gpc:\n",
    "    def __init__(self,name):\n",
    "        self.name=name\n",
    "    \n",
    "    \n",
    "    \n",
    "class pc(gpc):\n",
    "    def __init__(self,name,age):\n",
    "        super().__init__(name)\n",
    "        self.age=age\n",
    "        \n",
    "    \n",
    "    \n",
    "class cc(gpc):\n",
    "    def __init__(self,sal,name):\n",
    "        super().__init__(name)\n",
    "        self.sal=sal\n",
    "x=cc(20000,\"abc\") \n",
    "x.sal"
   ]
  },
  {
   "cell_type": "code",
   "execution_count": 28,
   "id": "6dacbdff",
   "metadata": {},
   "outputs": [
    {
     "data": {
      "text/plain": [
       "20000"
      ]
     },
     "execution_count": 28,
     "metadata": {},
     "output_type": "execute_result"
    }
   ],
   "source": [
    "#wap to make a inheritance useing hibrid solution.\n",
    "class gpc:\n",
    "    def __init__(self,name):\n",
    "        self.name=name\n",
    "        \n",
    "class pc():\n",
    "    def __init__(self,age):\n",
    "        self.age=age\n",
    "            \n",
    "class cc(pc,gpc):\n",
    "    def __init__(self,sal,name,age):\n",
    "        super().__init__(name)\n",
    "        super().__init__(age)\n",
    "        self.sal=sal\n",
    "x=cc(20000,\"abc\",34) \n",
    "x.sal"
   ]
  },
  {
   "cell_type": "code",
   "execution_count": 2,
   "id": "e4ef364c",
   "metadata": {},
   "outputs": [],
   "source": [
    "\n",
    "#program without use of super() "
   ]
  },
  {
   "cell_type": "code",
   "execution_count": 7,
   "id": "3cb5f4f7",
   "metadata": {},
   "outputs": [
    {
     "data": {
      "text/plain": [
       "'abc'"
      ]
     },
     "execution_count": 7,
     "metadata": {},
     "output_type": "execute_result"
    }
   ],
   "source": [
    "#1\n",
    "class gpc:\n",
    "    def __init__(self,name):\n",
    "        self.name=name\n",
    "        \n",
    "class pc(gpc):\n",
    "    def __init__(self,name,age):\n",
    "        gpc.__init__(self,name)\n",
    "        self.age=age\n",
    "          \n",
    "class cc():\n",
    "    def __init__(self,sal):\n",
    "        self.sal=sal\n",
    "x=pc(\"abc\",23) \n",
    "x.name"
   ]
  },
  {
   "cell_type": "code",
   "execution_count": 9,
   "id": "7407dfbf",
   "metadata": {},
   "outputs": [
    {
     "data": {
      "text/plain": [
       "'abc'"
      ]
     },
     "execution_count": 9,
     "metadata": {},
     "output_type": "execute_result"
    }
   ],
   "source": [
    "#2\n",
    "class gpc:\n",
    "    def __init__(self,name):\n",
    "        self.name=name\n",
    "    \n",
    "    \n",
    "    \n",
    "class pc(gpc):\n",
    "    def __init__(self,name,age):\n",
    "        gpc.__init__(self,name)\n",
    "        self.age=age\n",
    "        \n",
    "    \n",
    "    \n",
    "class cc(pc):\n",
    "    def __init__(self,sal,name,age):\n",
    "        pc.__init__(self,name,age)\n",
    "        self.sal=sal\n",
    "x=cc(1200,\"abc\",12) \n",
    "x.name"
   ]
  },
  {
   "cell_type": "code",
   "execution_count": 10,
   "id": "ab4528a6",
   "metadata": {},
   "outputs": [
    {
     "data": {
      "text/plain": [
       "23"
      ]
     },
     "execution_count": 10,
     "metadata": {},
     "output_type": "execute_result"
    }
   ],
   "source": [
    "#3\n",
    "class gpc:\n",
    "    def __init__(self,name):\n",
    "        self.name=name\n",
    "    \n",
    "    \n",
    "    \n",
    "class pc:\n",
    "    def __init__(self,age):\n",
    "        self.age=age\n",
    "            \n",
    "class cc(pc):\n",
    "    def __init__(self,sal,age):\n",
    "        pc.__init__(self,age)\n",
    "        self.sal=sal\n",
    "x=cc(2000,23)       \n",
    "x.age"
   ]
  },
  {
   "cell_type": "code",
   "execution_count": 11,
   "id": "dc557322",
   "metadata": {},
   "outputs": [
    {
     "data": {
      "text/plain": [
       "20000"
      ]
     },
     "execution_count": 11,
     "metadata": {},
     "output_type": "execute_result"
    }
   ],
   "source": [
    "#4\n",
    "class gpc:\n",
    "    def __init__(self,name):\n",
    "        self.name=name\n",
    "    \n",
    "    \n",
    "    \n",
    "class pc(gpc):\n",
    "    def __init__(self,name,age):\n",
    "        gpc.__init__(self,name)\n",
    "        self.age=age\n",
    "        \n",
    "    \n",
    "    \n",
    "class cc(gpc):\n",
    "    def __init__(self,sal,name):\n",
    "        gpc.__init__(self,name)\n",
    "        self.sal=sal\n",
    "x=cc(20000,\"abc\") \n",
    "x.sal"
   ]
  },
  {
   "cell_type": "code",
   "execution_count": null,
   "id": "8ab0a192",
   "metadata": {},
   "outputs": [],
   "source": []
  }
 ],
 "metadata": {
  "kernelspec": {
   "display_name": "Python 3 (ipykernel)",
   "language": "python",
   "name": "python3"
  },
  "language_info": {
   "codemirror_mode": {
    "name": "ipython",
    "version": 3
   },
   "file_extension": ".py",
   "mimetype": "text/x-python",
   "name": "python",
   "nbconvert_exporter": "python",
   "pygments_lexer": "ipython3",
   "version": "3.9.12"
  }
 },
 "nbformat": 4,
 "nbformat_minor": 5
}
